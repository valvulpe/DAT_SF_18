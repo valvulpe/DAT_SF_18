{
 "cells": [
  {
   "cell_type": "code",
   "execution_count": 1,
   "metadata": {
    "collapsed": true
   },
   "outputs": [],
   "source": [
    "import pandas as pd"
   ]
  },
  {
   "cell_type": "code",
   "execution_count": 2,
   "metadata": {
    "collapsed": true
   },
   "outputs": [],
   "source": [
    "df = pd.read_csv('data/lab5warmupdata.txt', delimiter='\\t')"
   ]
  },
  {
   "cell_type": "code",
   "execution_count": 3,
   "metadata": {
    "collapsed": false
   },
   "outputs": [
    {
     "data": {
      "text/html": [
       "<div>\n",
       "<table border=\"1\" class=\"dataframe\">\n",
       "  <thead>\n",
       "    <tr style=\"text-align: right;\">\n",
       "      <th></th>\n",
       "      <th>number1</th>\n",
       "      <th>number2</th>\n",
       "    </tr>\n",
       "  </thead>\n",
       "  <tbody>\n",
       "    <tr>\n",
       "      <th>0</th>\n",
       "      <td>0,589</td>\n",
       "      <td>'0,589'</td>\n",
       "    </tr>\n",
       "    <tr>\n",
       "      <th>1</th>\n",
       "      <td>0,578</td>\n",
       "      <td>'0,578'</td>\n",
       "    </tr>\n",
       "    <tr>\n",
       "      <th>2</th>\n",
       "      <td>7,779</td>\n",
       "      <td>'7,779'</td>\n",
       "    </tr>\n",
       "    <tr>\n",
       "      <th>3</th>\n",
       "      <td>0,139</td>\n",
       "      <td>'0,139'</td>\n",
       "    </tr>\n",
       "    <tr>\n",
       "      <th>4</th>\n",
       "      <td>1,687</td>\n",
       "      <td>'1,687'</td>\n",
       "    </tr>\n",
       "  </tbody>\n",
       "</table>\n",
       "</div>"
      ],
      "text/plain": [
       "  number1  number2\n",
       "0   0,589  '0,589'\n",
       "1   0,578  '0,578'\n",
       "2   7,779  '7,779'\n",
       "3   0,139  '0,139'\n",
       "4   1,687  '1,687'"
      ]
     },
     "execution_count": 3,
     "metadata": {},
     "output_type": "execute_result"
    }
   ],
   "source": [
    "df.head()"
   ]
  },
  {
   "cell_type": "markdown",
   "metadata": {},
   "source": [
    "####Exercise 1: Strip the extra comma from the number1 column and convert to integer"
   ]
  },
  {
   "cell_type": "code",
   "execution_count": 9,
   "metadata": {
    "collapsed": false
   },
   "outputs": [
    {
     "data": {
      "text/plain": [
       "0      589\n",
       "1      578\n",
       "2     7779\n",
       "3      139\n",
       "4     1687\n",
       "5     3246\n",
       "6      254\n",
       "7     3133\n",
       "8     9446\n",
       "9     6241\n",
       "10    4922\n",
       "11    4657\n",
       "12    5134\n",
       "13    4947\n",
       "14    5988\n",
       "15    1376\n",
       "16     291\n",
       "17    1515\n",
       "18    3126\n",
       "19     853\n",
       "20    2768\n",
       "21    6738\n",
       "22    8168\n",
       "23     181\n",
       "24    6760\n",
       "25    2199\n",
       "26    2207\n",
       "27    5145\n",
       "28    8247\n",
       "29    7646\n",
       "30     941\n",
       "31    1886\n",
       "32    4981\n",
       "33    2140\n",
       "34    6987\n",
       "35     326\n",
       "36    2867\n",
       "37    4890\n",
       "38    8625\n",
       "39    4475\n",
       "40     903\n",
       "Name: number1, dtype: int64"
      ]
     },
     "execution_count": 9,
     "metadata": {},
     "output_type": "execute_result"
    }
   ],
   "source": [
    "#df['number1'][1].replace(\",\", \"\")\n",
    "#df.number1.apply(lambda x: x.replace (\",\",\"\")).astype(int)\n",
    "df.number1.str.replace(\",\",\"\").astype(int)\n",
    "\n",
    "\n",
    "\n"
   ]
  },
  {
   "cell_type": "code",
   "execution_count": null,
   "metadata": {
    "collapsed": true
   },
   "outputs": [],
   "source": [
    "#Bonus: Do it a different way\n",
    "\n",
    "\n",
    "\n",
    "\n"
   ]
  },
  {
   "cell_type": "markdown",
   "metadata": {},
   "source": [
    "####Exercise 2: Strip the extra quotation marks from the column2 and convert to integer"
   ]
  },
  {
   "cell_type": "code",
   "execution_count": null,
   "metadata": {
    "collapsed": true
   },
   "outputs": [],
   "source": [
    "#Your code here\n",
    "\n",
    "\n",
    "\n",
    "\n"
   ]
  }
 ],
 "metadata": {
  "kernelspec": {
   "display_name": "Python 2",
   "language": "python",
   "name": "python2"
  },
  "language_info": {
   "codemirror_mode": {
    "name": "ipython",
    "version": 2
   },
   "file_extension": ".py",
   "mimetype": "text/x-python",
   "name": "python",
   "nbconvert_exporter": "python",
   "pygments_lexer": "ipython2",
   "version": "2.7.10"
  }
 },
 "nbformat": 4,
 "nbformat_minor": 0
}
