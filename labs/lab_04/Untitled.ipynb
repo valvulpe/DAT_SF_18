{
 "cells": [
  {
   "cell_type": "code",
   "execution_count": 3,
   "metadata": {
    "collapsed": false
   },
   "outputs": [
    {
     "ename": "SystemExit",
     "evalue": "usage: __main__.py [global_opts] cmd1 [cmd1_opts] [cmd2 [cmd2_opts] ...]\n   or: __main__.py --help [cmd1 cmd2 ...]\n   or: __main__.py --help-commands\n   or: __main__.py cmd --help\n\nerror: option -f not recognized",
     "output_type": "error",
     "traceback": [
      "An exception has occurred, use %tb to see the full traceback.\n",
      "\u001b[0;31mSystemExit\u001b[0m\u001b[0;31m:\u001b[0m usage: __main__.py [global_opts] cmd1 [cmd1_opts] [cmd2 [cmd2_opts] ...]\n   or: __main__.py --help [cmd1 cmd2 ...]\n   or: __main__.py --help-commands\n   or: __main__.py cmd --help\n\nerror: option -f not recognized\n"
     ]
    },
    {
     "name": "stderr",
     "output_type": "stream",
     "text": [
      "To exit: use 'exit', 'quit', or Ctrl-D.\n"
     ]
    }
   ],
   "source": [
    "# Causes `python setup.py test` to not crash.\n",
    "# See https://groups.google.com/forum/#!msg/nose-users/fnJ-kAUbYHQ/_UsLN786ygcJ\n",
    "import multiprocessing\n",
    "from setuptools import setup\n",
    "\n",
    "setup(name='urbandict',\n",
    "        version='0.4',\n",
    "        py_modules=['urbandict'],\n",
    "        scripts=['urbandicli'],\n",
    "        author='Roman Bogorodskiy',\n",
    "        author_email='bogorodskiy@gmail.com',\n",
    "        description='CLI client and a library for urbandictionary.com',\n",
    "        url='https://github.com/novel/py-urbandict',\n",
    "        classifiers=[\n",
    "                \"Environment :: Console\",\n",
    "                \"Intended Audience :: End Users/Desktop\",\n",
    "                \"Intended Audience :: Developers\",\n",
    "                \"Programming Language :: Python :: 2\",\n",
    "                \"Programming Language :: Python :: 3\",\n",
    "            ],\n",
    "        )\n"
   ]
  },
  {
   "cell_type": "code",
   "execution_count": null,
   "metadata": {
    "collapsed": true
   },
   "outputs": [],
   "source": []
  }
 ],
 "metadata": {
  "kernelspec": {
   "display_name": "Python 2",
   "language": "python",
   "name": "python2"
  },
  "language_info": {
   "codemirror_mode": {
    "name": "ipython",
    "version": 2
   },
   "file_extension": ".py",
   "mimetype": "text/x-python",
   "name": "python",
   "nbconvert_exporter": "python",
   "pygments_lexer": "ipython2",
   "version": "2.7.10"
  }
 },
 "nbformat": 4,
 "nbformat_minor": 0
}
