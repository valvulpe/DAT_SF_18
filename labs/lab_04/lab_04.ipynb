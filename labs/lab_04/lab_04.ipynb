{
 "cells": [
  {
   "cell_type": "markdown",
   "metadata": {},
   "source": [
    "# GA Data Science 18 (DAT18) - Lab4"
   ]
  },
  {
   "cell_type": "markdown",
   "metadata": {},
   "source": [
    "## Lab goals\n",
    "\n",
    "- Simple APIs with Python\n",
    "- Kimono Labs: an external tool for aquiring data"
   ]
  },
  {
   "cell_type": "code",
   "execution_count": null,
   "metadata": {
    "collapsed": true
   },
   "outputs": [],
   "source": [
    "# Imports at the top\n",
    "import json\n",
    "import urllib\n",
    "import pandas as pd\n",
    "\n",
    "import requests\n",
    "import json\n"
   ]
  },
  {
   "cell_type": "markdown",
   "metadata": {},
   "source": [
    "## Using Python APIs"
   ]
  },
  {
   "cell_type": "markdown",
   "metadata": {},
   "source": [
    "### Either Use Sheetsu or an API you've found\n",
    "Sheetsu: Turning Google Docs into APIs/\n",
    "https://sheetsu.com/"
   ]
  },
  {
   "cell_type": "markdown",
   "metadata": {
    "collapsed": true
   },
   "source": [
    "### Using Sheetsu\n",
    "I've created a GoogleDoc with wine data\n",
    "\n",
    "https://docs.google.com/spreadsheets/d/1_U-DHIrBXN8A1e3NbyOIJRORge2udmmaa8qS9mKddWo/edit#gid=0 \n",
    "https://sheetsu.com/apis/79656330"
   ]
  },
  {
   "cell_type": "code",
   "execution_count": null,
   "metadata": {
    "collapsed": true
   },
   "outputs": [],
   "source": [
    "# You can either post or get info from this API\n",
    "# using the /column/Name you can pull only specfic subsets of the data\n",
    "api_base_url = 'https://sheetsu.com/apis/79656330'\n",
    "api_column = '/column/Name'\n"
   ]
  },
  {
   "cell_type": "markdown",
   "metadata": {},
   "source": [
    "##### Reading Data from an API datafeed"
   ]
  },
  {
   "cell_type": "code",
   "execution_count": null,
   "metadata": {
    "collapsed": false
   },
   "outputs": [],
   "source": [
    "# What kind of data is this returning?\n",
    "api_response = requests.get(api_base_url)\n",
    "api_response.text"
   ]
  },
  {
   "cell_type": "code",
   "execution_count": null,
   "metadata": {
    "collapsed": false
   },
   "outputs": [],
   "source": [
    "# What kind of data is this returning?\n",
    "api_column_url = api_base_url + api_column\n",
    "column_response = requests.get(api_column_url)\n",
    "column_response.text"
   ]
  },
  {
   "cell_type": "markdown",
   "metadata": {},
   "source": [
    "#### Reading JSON"
   ]
  },
  {
   "cell_type": "code",
   "execution_count": null,
   "metadata": {
    "collapsed": false
   },
   "outputs": [],
   "source": [
    "reponse_dict = json.loads(api_response.text)"
   ]
  },
  {
   "cell_type": "markdown",
   "metadata": {},
   "source": [
    "#### What is the response of an API and what does it mean??"
   ]
  },
  {
   "cell_type": "code",
   "execution_count": null,
   "metadata": {
    "collapsed": false
   },
   "outputs": [],
   "source": [
    "# What data was returned?\n",
    "reponse_dict"
   ]
  },
  {
   "cell_type": "markdown",
   "metadata": {},
   "source": [
    "#### Lets read the data into a DataFrame!"
   ]
  },
  {
   "cell_type": "code",
   "execution_count": null,
   "metadata": {
    "collapsed": false
   },
   "outputs": [],
   "source": [
    "wine_df = pd.DataFrame(reponse_dict['result'])\n",
    "wine_df.head()"
   ]
  },
  {
   "cell_type": "markdown",
   "metadata": {},
   "source": [
    "#### Pandas has great functions. We could just do it this way\n",
    "\n",
    "This sometimes works, but the data may need adjusting"
   ]
  },
  {
   "cell_type": "code",
   "execution_count": null,
   "metadata": {
    "collapsed": false
   },
   "outputs": [],
   "source": [
    "pd.read_json(api_response.text).head(2)"
   ]
  },
  {
   "cell_type": "code",
   "execution_count": null,
   "metadata": {
    "collapsed": false
   },
   "outputs": [],
   "source": [
    "wine_df = pd.DataFrame(list(pd.read_json(api_response.text).result.values))\n",
    "wine_df.head(2)"
   ]
  },
  {
   "cell_type": "markdown",
   "metadata": {},
   "source": [
    "#### Writing to an API using PUT\n",
    "You will rarely need to do this"
   ]
  },
  {
   "cell_type": "code",
   "execution_count": null,
   "metadata": {
    "collapsed": false
   },
   "outputs": [],
   "source": [
    "# Send data to an API\n",
    "post_data = {\n",
    "    'Grape' : ''\n",
    "    , 'Name' : 'Dylans Wine'\n",
    "    , 'Color' : 'R'\n",
    "    , 'Country' : 'US'\n",
    "    , 'Region' : 'CA'\n",
    "    , 'Vinyard' : ''\n",
    "    , 'Score' : '10'\n",
    "    , 'Consumed In' : '2015'\n",
    "    , 'Vintage' : '1973'\n",
    "    , 'Price' : '200'\n",
    "    }\n",
    "requests.post(api_base_url, data=post_data)\n"
   ]
  },
  {
   "cell_type": "markdown",
   "metadata": {},
   "source": [
    "### Exercise 1\n",
    "    - Either with your own google doc or a different API\n",
    "    - Extract some data using requests\n",
    "    - Pull the data into a DataFrame\n",
    "    - Search For missing data\n",
    "        - Is there any missing data you can clean?\n",
    "        - Is there any data you can just remove?\n",
    "    - Summarize the data \n",
    "        - Try using describe, min, max, mean, var\n",
    "        - What are the unique values and can you do anything with the text?\n",
    "            Hint: Try using pd.get_dummies\n",
    "    - Bonus: Create some visualizations form this data\n",
    "    - Bonus: Try using sheetsu to push new data to the google doc (requests.post)"
   ]
  },
  {
   "cell_type": "code",
   "execution_count": null,
   "metadata": {
    "collapsed": true
   },
   "outputs": [],
   "source": []
  },
  {
   "cell_type": "code",
   "execution_count": null,
   "metadata": {
    "collapsed": true
   },
   "outputs": [],
   "source": []
  },
  {
   "cell_type": "markdown",
   "metadata": {},
   "source": [
    "## Kimono Labs\n",
    "\n"
   ]
  },
  {
   "cell_type": "markdown",
   "metadata": {},
   "source": [
    "Web scraping with the Kimono Labs API\n",
    "\n",
    "https://www.kimonolabs.com/\n",
    "\n",
    "Kimono labs has undergone a bit of a redesign in recent months and now encourages crawling for all the data you'd want ahead of time and extracting the batch in a series of calls. To create an api, follow the kimono labs walkthrough. To generate a large amount of data like we will here, a series of screenshot walkthroughs have been added.\n",
    "\n",
    "After creating an API from an advanced search query as walked through in class, navigate to the Crawl Setup tab from the API management page in kimono."
   ]
  },
  {
   "cell_type": "code",
   "execution_count": null,
   "metadata": {
    "collapsed": false
   },
   "outputs": [],
   "source": [
    "from IPython.display import Image\n",
    "Image(filename='KL_Crawl_Setup.png') "
   ]
  },
  {
   "cell_type": "markdown",
   "metadata": {},
   "source": [
    "Change the crawl strategy to Generated URL List"
   ]
  },
  {
   "cell_type": "code",
   "execution_count": null,
   "metadata": {
    "collapsed": false
   },
   "outputs": [],
   "source": [
    "from IPython.display import Image\n",
    "Image(filename='KL_Generated_URL_List.png') "
   ]
  },
  {
   "cell_type": "markdown",
   "metadata": {},
   "source": [
    "From here you can automatically generate a list of pages to extract data from, with the caveat that the pages you are navigating all have roughly the same structure. Here we are going to look for the top boxoffice_gross_us from 1990 to 2014. "
   ]
  },
  {
   "cell_type": "code",
   "execution_count": null,
   "metadata": {
    "collapsed": false
   },
   "outputs": [],
   "source": [
    "from IPython.display import Image\n",
    "Image(filename='KL_Parameter_range.png') "
   ]
  },
  {
   "cell_type": "code",
   "execution_count": null,
   "metadata": {
    "collapsed": false
   },
   "outputs": [],
   "source": [
    "#After you let the data crawl the page, you can update the data here.\n",
    "\n",
    "import json\n",
    "import urllib\n",
    "\n",
    "results = json.load(urllib.urlopen(\"https://www.kimonolabs.com/api/eb81bu78?apikey=4WrTjTsFDGmHCLnYrAXeSLIjJYcfrG7j\"))\n",
    "results"
   ]
  },
  {
   "cell_type": "code",
   "execution_count": null,
   "metadata": {
    "collapsed": false
   },
   "outputs": [],
   "source": [
    "your_key = \"4WrTjTsFDGmHCLnYrAXeSLIjJYcfrG7j\"\n",
    "your_endpoint = \"eb81bu78\"\n",
    "import json\n",
    "import urllib\n",
    "import pandas as pd\n",
    "\n",
    "def getMovies(api_key=your_key,endpoint=your_endpoint):\n",
    "    \"\"\"\n",
    "    Creates list of top 50 movies by gross box office\n",
    "    sales for a with ratings and sales\n",
    "    \"\"\"\n",
    "    \n",
    "    movies, ratings, sales, years = [], [], [], []\n",
    "    #Remember to replace this link with the link to your specifc API\n",
    "    url = \"https://www.kimonolabs.com/api/{}?\".format(endpoint) + \\\n",
    "            \"apikey={}\".format(api_key)\n",
    "    data = json.load(urllib.urlopen(url))\n",
    "    \n",
    "    # Iterate through json object to collect data\n",
    "    for n in xrange(data['count']):\n",
    "        n_title = data['results']['collection1'][n]['title']['text']\n",
    "        n_rating = float(data['results']['collection1'][n]['rating'])\n",
    "        n_sales = float(data['results']['collection1'][n]['sales'][1:-1])\n",
    "        n_year = int(data['results']['collection1'][n]['url'][-4:])\n",
    "        movies.append(n_title)\n",
    "        ratings.append(n_rating)\n",
    "        sales.append(n_sales)\n",
    "        years.append(n_year)\n",
    "    data = pd.DataFrame({'movie':movies,'rating':ratings,'sales_in_M':sales,'year':years})\n",
    "    \n",
    "    return data\n",
    "movies = getMovies()\n",
    "movies.head()"
   ]
  },
  {
   "cell_type": "markdown",
   "metadata": {},
   "source": [
    "Note a few things: The function we wrote relies on extracting pieces of a string and converting them to numeric types. Here, the year can be extracted from the url used to generate the movies, so we use the slice `[-4:]` to identify that. Similarly, the gross cost comes out as $##M, so we know we never want the first or last value. Thus the slice `[1:-1]` is correct."
   ]
  },
  {
   "cell_type": "markdown",
   "metadata": {},
   "source": [
    "###Exercise 2.1\n",
    "Build your own api via kimono at https://www.kimonolabs.com/. Create the api we created in class to call the data.\n",
    "\n",
    "What were the average sales in 1995?\n",
    "What was the average rating?"
   ]
  },
  {
   "cell_type": "code",
   "execution_count": null,
   "metadata": {
    "collapsed": false
   },
   "outputs": [],
   "source": []
  },
  {
   "cell_type": "markdown",
   "metadata": {},
   "source": [
    "###Bonus\n",
    "What were the average sales for the 90s? How does that differ from the 2000s?"
   ]
  },
  {
   "cell_type": "code",
   "execution_count": null,
   "metadata": {
    "collapsed": false
   },
   "outputs": [],
   "source": []
  }
 ],
 "metadata": {
  "kernelspec": {
   "display_name": "Python 2",
   "language": "python",
   "name": "python2"
  },
  "language_info": {
   "codemirror_mode": {
    "name": "ipython",
    "version": 2
   },
   "file_extension": ".py",
   "mimetype": "text/x-python",
   "name": "python",
   "nbconvert_exporter": "python",
   "pygments_lexer": "ipython2",
   "version": "2.7.10"
  }
 },
 "nbformat": 4,
 "nbformat_minor": 0
}
