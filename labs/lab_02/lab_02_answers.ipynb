{
 "cells": [
  {
   "cell_type": "markdown",
   "metadata": {},
   "source": [
    "# GA Data Science 18 (DAT18) - Lab 2.1\n",
    "    - Using IPython Notebook\n",
    "    - Basic Python Data Structures\n",
    "    \n",
    "IPython Shortcuts:\n",
    "    - comment out a line of code = command + /\n",
    "    - autocomplete text = tab\n",
    "    - help for function = shift + tab (while inside parentheses)"
   ]
  },
  {
   "cell_type": "code",
   "execution_count": null,
   "metadata": {
    "collapsed": false
   },
   "outputs": [],
   "source": [
    "# Try running this cell using one of these three shortcuts:\n",
    "#   - run block and keep cursor on cell: ctrl + enter\n",
    "#   - run block of code = shift + enter\n",
    "#   - run block and create cell below: option + enter\n",
    "\n",
    "a = 5\n",
    "b = 7\n",
    "\n",
    "c = a + b\n",
    "\n",
    "print \"%d + %d = %d\" % (a, b, c)"
   ]
  },
  {
   "cell_type": "markdown",
   "metadata": {},
   "source": [
    "## Python Data Structures\n",
    "Python different types of numeric data type\n",
    "    - int: Integer value\n",
    "    - float: floating point value\n",
    "    - bool: Boolean True or False\n",
    "    - complex: contains variables and values\n",
    "    \n",
    "The ```type()``` function allows us to retrieve the type of an object"
   ]
  },
  {
   "cell_type": "code",
   "execution_count": null,
   "metadata": {
    "collapsed": false
   },
   "outputs": [],
   "source": [
    "print type(10)"
   ]
  },
  {
   "cell_type": "code",
   "execution_count": null,
   "metadata": {
    "collapsed": false
   },
   "outputs": [],
   "source": [
    "print type(10.0)"
   ]
  },
  {
   "cell_type": "code",
   "execution_count": null,
   "metadata": {
    "collapsed": false
   },
   "outputs": [],
   "source": [
    "print type(True)"
   ]
  },
  {
   "cell_type": "code",
   "execution_count": null,
   "metadata": {
    "collapsed": false
   },
   "outputs": [],
   "source": [
    "print type(10+2j)"
   ]
  },
  {
   "cell_type": "markdown",
   "metadata": {},
   "source": [
    "All basic math types use expected operators"
   ]
  },
  {
   "cell_type": "code",
   "execution_count": null,
   "metadata": {
    "collapsed": false
   },
   "outputs": [],
   "source": [
    "5+5"
   ]
  },
  {
   "cell_type": "code",
   "execution_count": null,
   "metadata": {
    "collapsed": false
   },
   "outputs": [],
   "source": [
    "2.2+2.2"
   ]
  },
  {
   "cell_type": "code",
   "execution_count": null,
   "metadata": {
    "collapsed": false
   },
   "outputs": [],
   "source": [
    "True+True"
   ]
  },
  {
   "cell_type": "code",
   "execution_count": null,
   "metadata": {
    "collapsed": false
   },
   "outputs": [],
   "source": [
    "3**2"
   ]
  },
  {
   "cell_type": "code",
   "execution_count": null,
   "metadata": {
    "collapsed": false
   },
   "outputs": [],
   "source": [
    "(10+2j)*2"
   ]
  },
  {
   "cell_type": "markdown",
   "metadata": {},
   "source": [
    "Any of these values can be assigned to a variable"
   ]
  },
  {
   "cell_type": "code",
   "execution_count": 13,
   "metadata": {
    "collapsed": false
   },
   "outputs": [
    {
     "data": {
      "text/plain": [
       "15"
      ]
     },
     "execution_count": 13,
     "metadata": {},
     "output_type": "execute_result"
    }
   ],
   "source": [
    "a = 2*5\n",
    "b = 5\n",
    "c = 2.0\n",
    "\n",
    "a + b"
   ]
  },
  {
   "cell_type": "code",
   "execution_count": 2,
   "metadata": {
    "collapsed": false
   },
   "outputs": [
    {
     "data": {
      "text/plain": [
       "0"
      ]
     },
     "execution_count": 2,
     "metadata": {},
     "output_type": "execute_result"
    }
   ],
   "source": [
    "# What value will this return?  Why?\n",
    "b / a"
   ]
  },
  {
   "cell_type": "markdown",
   "metadata": {},
   "source": [
    "##### Answer:  Returns 0\n",
    "variables a and b are both ints\n",
    "\n",
    "An int / int = int\n",
    "\n",
    "So the answer is 0 because ints are always rounded down\n",
    "\n",
    "Note: It is the same for all types of operations (ie *)"
   ]
  },
  {
   "cell_type": "code",
   "execution_count": 3,
   "metadata": {
    "collapsed": false
   },
   "outputs": [
    {
     "data": {
      "text/plain": [
       "0.4"
      ]
     },
     "execution_count": 3,
     "metadata": {},
     "output_type": "execute_result"
    }
   ],
   "source": [
    "# What value will this return?  Why?\n",
    "c / b"
   ]
  },
  {
   "cell_type": "markdown",
   "metadata": {},
   "source": [
    "##### Answer:  Returns .4\n",
    "\n",
    "A float / int = float\n",
    "\n",
    "The answer is always cast to a float when a float is in the equation\n",
    "\n",
    "Multiplying by 1.0 is a valid way to cast an int, for example:"
   ]
  },
  {
   "cell_type": "code",
   "execution_count": 14,
   "metadata": {
    "collapsed": false
   },
   "outputs": [
    {
     "data": {
      "text/plain": [
       "0.5"
      ]
     },
     "execution_count": 14,
     "metadata": {},
     "output_type": "execute_result"
    }
   ],
   "source": [
    "1.0 * b / a"
   ]
  },
  {
   "cell_type": "markdown",
   "metadata": {},
   "source": [
    "####  Now you try\n",
    "Using (\\*, /, +, -, \\*\\*)\n",
    "    - What happens when you combine different types?\n",
    "    - Show how a boolean might be helpful cleaning values?"
   ]
  },
  {
   "cell_type": "code",
   "execution_count": null,
   "metadata": {
    "collapsed": false
   },
   "outputs": [],
   "source": [
    "# Your work here!\n",
    "# If you need more cells use: option + enter\n",
    "# Using the values below\n",
    "# Multiply and divide each by the others\n",
    "# Discuss any questions with your neighbors\n",
    "a = 3\n",
    "b = 2.3\n",
    "c = True\n",
    "d = False"
   ]
  },
  {
   "cell_type": "markdown",
   "metadata": {},
   "source": [
    "## Non-Numeric Types\n",
    "If you go through the python documentation there are many different types but the important ones we'll cover here. \n",
    "We'll also introduce more complex types throughout the course. Types you'll frequently interact with are:\n",
    "    - strings (which play interestingly with lists, we'll see in a sec)\n",
    "    - lists\n",
    "    - tuples\n",
    "    - sets\n",
    "    - dictionaries\n",
    "    \n",
    "#### Python lists\n",
    "The next basic data type is the Python list: \n",
    "\n",
    "A list is an ordered collection of elements, and these elements can be of arbitrary type.  Lists are mutable, meaning they can be changed in-place.  In python lists are indicated by square brackets [ and ].  Items in a list are indexed starting with 0."
   ]
  },
  {
   "cell_type": "code",
   "execution_count": null,
   "metadata": {
    "collapsed": false
   },
   "outputs": [],
   "source": [
    "k = [1, 'b', True]\n",
    "print k"
   ]
  },
  {
   "cell_type": "code",
   "execution_count": null,
   "metadata": {
    "collapsed": false
   },
   "outputs": [],
   "source": [
    "# What value will this return?\n",
    "k[1]"
   ]
  },
  {
   "cell_type": "code",
   "execution_count": null,
   "metadata": {
    "collapsed": false
   },
   "outputs": [],
   "source": [
    "k[0] = 4\n",
    "\n",
    "print k"
   ]
  },
  {
   "cell_type": "markdown",
   "metadata": {},
   "source": [
    "lists can also contain lists"
   ]
  },
  {
   "cell_type": "code",
   "execution_count": null,
   "metadata": {
    "collapsed": false
   },
   "outputs": [],
   "source": [
    "a = [[1,2,3], 4, 5]\n",
    "a[0]"
   ]
  },
  {
   "cell_type": "markdown",
   "metadata": {},
   "source": [
    "#### Python Strings\n",
    "    - String can be written using either single or double quotes\n",
    "    - Later in the course we will dig deeply into strings and text data"
   ]
  },
  {
   "cell_type": "code",
   "execution_count": null,
   "metadata": {
    "collapsed": false
   },
   "outputs": [],
   "source": [
    "a = 'Hello world!'\n",
    "print a\n",
    "print a.lower()\n",
    "print a.upper()"
   ]
  },
  {
   "cell_type": "code",
   "execution_count": null,
   "metadata": {
    "collapsed": false
   },
   "outputs": [],
   "source": [
    "name = \"my name\"\n",
    "print a+' My name is ' + name"
   ]
  },
  {
   "cell_type": "code",
   "execution_count": null,
   "metadata": {
    "collapsed": false
   },
   "outputs": [],
   "source": [
    "groceries = \"milk,eggs,bacon,spinach,olive oil,cookies\"\n",
    "groceries.split(',')"
   ]
  },
  {
   "cell_type": "markdown",
   "metadata": {},
   "source": [
    "#### Python Tuples\n",
    "\n",
    "These are very similar to lists, but are immutable"
   ]
  },
  {
   "cell_type": "code",
   "execution_count": null,
   "metadata": {
    "collapsed": false
   },
   "outputs": [],
   "source": [
    "x = (1, 'a', 2.5)\n",
    "print x"
   ]
  },
  {
   "cell_type": "code",
   "execution_count": null,
   "metadata": {
    "collapsed": false
   },
   "outputs": [],
   "source": [
    "x[0]"
   ]
  },
  {
   "cell_type": "code",
   "execution_count": null,
   "metadata": {
    "collapsed": false
   },
   "outputs": [],
   "source": [
    "# What will happen when I assign a tuple index a value?\n",
    "x[0] = 4"
   ]
  },
  {
   "cell_type": "markdown",
   "metadata": {},
   "source": [
    "#### Python Sets\n",
    "A set is a list with duplicates removed"
   ]
  },
  {
   "cell_type": "code",
   "execution_count": null,
   "metadata": {
    "collapsed": false
   },
   "outputs": [],
   "source": [
    "y = set([1, 1, 2, 3, 5, 8])"
   ]
  },
  {
   "cell_type": "code",
   "execution_count": null,
   "metadata": {
    "collapsed": false
   },
   "outputs": [],
   "source": [
    "print y"
   ]
  },
  {
   "cell_type": "code",
   "execution_count": null,
   "metadata": {
    "collapsed": false
   },
   "outputs": [],
   "source": [
    "# What will this produce?\n",
    "a = [1, 3, 4, 5, 5, 5, 7, 8, 8, 9]\n",
    "list(set(a))"
   ]
  },
  {
   "cell_type": "markdown",
   "metadata": {},
   "source": [
    "#### Python Dictionaries\n",
    "These are unordered collections of key:value pairs\n",
    "\n",
    "Value are looked up by keys"
   ]
  },
  {
   "cell_type": "code",
   "execution_count": 5,
   "metadata": {
    "collapsed": false
   },
   "outputs": [],
   "source": [
    "info = {'name': 'Bob', 'age': 54, 'kids': ['Henry', 'Phil']}"
   ]
  },
  {
   "cell_type": "code",
   "execution_count": 6,
   "metadata": {
    "collapsed": false
   },
   "outputs": [
    {
     "data": {
      "text/plain": [
       "'Bob'"
      ]
     },
     "execution_count": 6,
     "metadata": {},
     "output_type": "execute_result"
    }
   ],
   "source": [
    "info['name']"
   ]
  },
  {
   "cell_type": "code",
   "execution_count": 7,
   "metadata": {
    "collapsed": false
   },
   "outputs": [
    {
     "data": {
      "text/plain": [
       "1"
      ]
     },
     "execution_count": 7,
     "metadata": {},
     "output_type": "execute_result"
    }
   ],
   "source": [
    "info['name'] = 1\n",
    "info['name']"
   ]
  },
  {
   "cell_type": "markdown",
   "metadata": {},
   "source": [
    "New keys can also be added anytime"
   ]
  },
  {
   "cell_type": "code",
   "execution_count": 8,
   "metadata": {
    "collapsed": false
   },
   "outputs": [],
   "source": [
    "info['new_key'] = 'hi'"
   ]
  },
  {
   "cell_type": "code",
   "execution_count": 9,
   "metadata": {
    "collapsed": false
   },
   "outputs": [
    {
     "data": {
      "text/plain": [
       "['new_key', 'age', 'kids', 'name']"
      ]
     },
     "execution_count": 9,
     "metadata": {},
     "output_type": "execute_result"
    }
   ],
   "source": [
    "info.keys()"
   ]
  },
  {
   "cell_type": "markdown",
   "metadata": {},
   "source": [
    "#### Try on your own\n",
    "Run the 2 cells below and discuss the results with your neighbor"
   ]
  },
  {
   "cell_type": "code",
   "execution_count": 10,
   "metadata": {
    "collapsed": false
   },
   "outputs": [
    {
     "name": "stdout",
     "output_type": "stream",
     "text": [
      "{'a': [1, 2], 'b': [3, 4]}\n"
     ]
    }
   ],
   "source": [
    "a = [1, 2]\n",
    "b = [3, 4]\n",
    "c = {'a':a, 'b':b}\n",
    "print c"
   ]
  },
  {
   "cell_type": "code",
   "execution_count": 11,
   "metadata": {
    "collapsed": false
   },
   "outputs": [
    {
     "name": "stdout",
     "output_type": "stream",
     "text": [
      "{'a': [1, 2], 'b': [5, 4]}\n"
     ]
    }
   ],
   "source": [
    "a = [1, 3]\n",
    "b[0] = 5\n",
    "print c"
   ]
  },
  {
   "cell_type": "markdown",
   "metadata": {},
   "source": [
    "##### Answer\n",
    "\n",
    "The variable a was assgined a new object, but that did not change the old object it had been assigned\n",
    "\n",
    "The value 3 inside the list object [3, 4] was changed to a 5.  Since the list object was stored in c, the value changed there as well.\n",
    "\n",
    "Reference to help with memory management questions: http://foobarnbaz.com/2012/07/08/understanding-python-variables/"
   ]
  },
  {
   "cell_type": "markdown",
   "metadata": {},
   "source": [
    "## Flow Control\n",
    "Lists, tuples, sets,and dictionaries can be iterated through (and this will be very common). There are good and bad ways to iterate through lists."
   ]
  },
  {
   "cell_type": "code",
   "execution_count": null,
   "metadata": {
    "collapsed": false
   },
   "outputs": [],
   "source": [
    "ex_list = [1, 2, 3]\n",
    "\n",
    "for val in ex_list:\n",
    "    print val"
   ]
  },
  {
   "cell_type": "code",
   "execution_count": null,
   "metadata": {
    "collapsed": true
   },
   "outputs": [],
   "source": [
    "for i in range(10):\n",
    "    print i"
   ]
  },
  {
   "cell_type": "markdown",
   "metadata": {},
   "source": [
    "Strings are also iterable (meaning they can be looped over)"
   ]
  },
  {
   "cell_type": "code",
   "execution_count": null,
   "metadata": {
    "collapsed": false
   },
   "outputs": [],
   "source": [
    "string = 'heres my string'\n",
    "for c in string:\n",
    "    print c"
   ]
  },
  {
   "cell_type": "code",
   "execution_count": null,
   "metadata": {
    "collapsed": false
   },
   "outputs": [],
   "source": [
    "a = 10\n",
    "\n",
    "if a < 10:\n",
    "    print a\n",
    "elif a > 10:\n",
    "    print a*a\n",
    "else:\n",
    "    print a-4"
   ]
  },
  {
   "cell_type": "markdown",
   "metadata": {},
   "source": [
    "### Exercise 1.1\n",
    "#### Combining the for looping and if, elif, else conditions\n",
    "\n",
    "Write code that prints the largest value in the given list"
   ]
  },
  {
   "cell_type": "code",
   "execution_count": 21,
   "metadata": {
    "collapsed": false
   },
   "outputs": [],
   "source": [
    "# You are given the list below, \n",
    "# try writing code using loops to automatically pick out the largest value\n",
    "# If you finish largest value, try getting the mean and mode values\n",
    "test_list = [2, 5, 4, 1, 7, 3]\n",
    "\n"
   ]
  },
  {
   "cell_type": "markdown",
   "metadata": {
    "collapsed": true
   },
   "source": [
    "##### Answer:"
   ]
  },
  {
   "cell_type": "code",
   "execution_count": 23,
   "metadata": {
    "collapsed": false
   },
   "outputs": [
    {
     "name": "stdout",
     "output_type": "stream",
     "text": [
      "7\n"
     ]
    }
   ],
   "source": [
    "# None can be used as a default for numeric values\n",
    "# None is less than any number\n",
    "\n",
    "max_val = None\n",
    "for val in test_list:\n",
    "    if val > max_val:\n",
    "        max_val = val\n",
    "print max_val"
   ]
  },
  {
   "cell_type": "markdown",
   "metadata": {},
   "source": [
    "### Errors and Error Handling"
   ]
  },
  {
   "cell_type": "code",
   "execution_count": null,
   "metadata": {
    "collapsed": false
   },
   "outputs": [],
   "source": [
    "print 1/0"
   ]
  },
  {
   "cell_type": "code",
   "execution_count": null,
   "metadata": {
    "collapsed": false
   },
   "outputs": [],
   "source": [
    "for i in range(-10, 10):\n",
    "    print 3.0/i"
   ]
  },
  {
   "cell_type": "code",
   "execution_count": null,
   "metadata": {
    "collapsed": false
   },
   "outputs": [],
   "source": [
    "for i in range(-10, 10):\n",
    "    try:\n",
    "        print 3.0/i\n",
    "    except Exception, e:\n",
    "        print e"
   ]
  },
  {
   "cell_type": "markdown",
   "metadata": {},
   "source": [
    "You can use break to halt a loop"
   ]
  },
  {
   "cell_type": "code",
   "execution_count": null,
   "metadata": {
    "collapsed": false
   },
   "outputs": [],
   "source": [
    "for i in range(-10, 10):\n",
    "    try:\n",
    "        print 3.0/i\n",
    "    except Exception, e:\n",
    "        break"
   ]
  },
  {
   "cell_type": "markdown",
   "metadata": {},
   "source": [
    "Or continue to skip over an issue"
   ]
  },
  {
   "cell_type": "code",
   "execution_count": null,
   "metadata": {
    "collapsed": false
   },
   "outputs": [],
   "source": [
    "for i in range(-10, 10):\n",
    "    try:\n",
    "        print 3.0/i\n",
    "    except Exception, e:\n",
    "        continue"
   ]
  },
  {
   "cell_type": "markdown",
   "metadata": {},
   "source": [
    "## Functions"
   ]
  },
  {
   "cell_type": "code",
   "execution_count": null,
   "metadata": {
    "collapsed": false
   },
   "outputs": [],
   "source": [
    "def foo(x):\n",
    "    x = x * x\n",
    "    return x\n",
    "\n",
    "a = 3\n",
    "print a\n",
    "print foo(a)"
   ]
  },
  {
   "cell_type": "markdown",
   "metadata": {},
   "source": [
    "### Exercise 1.2"
   ]
  },
  {
   "cell_type": "markdown",
   "metadata": {},
   "source": [
    "#### Take your code from Ex 1.1 and put it in a function"
   ]
  },
  {
   "cell_type": "code",
   "execution_count": 26,
   "metadata": {
    "collapsed": false
   },
   "outputs": [
    {
     "name": "stdout",
     "output_type": "stream",
     "text": [
      "None\n"
     ]
    }
   ],
   "source": [
    "test_list = [2, 5, 4, 1, 7, 3]\n",
    "test_list_2 = [2, 2, 2, 3, 2, 5, 3]\n",
    "\n",
    "# Complete the function with your code\n",
    "# make sure you get the same max value as before\n",
    "# Once you do that try mean and mode as well\n",
    "\n",
    "def max_value(lst):\n",
    "    return None\n",
    "\n",
    "print max_value(test_list)"
   ]
  },
  {
   "cell_type": "markdown",
   "metadata": {},
   "source": [
    "##### Answer:\n",
    "\n",
    "NOTE: \"\"\" is used for blocks of text like this\"\"\"\n",
    "\n",
    "The description of a function is generally stored on the first line of the function"
   ]
  },
  {
   "cell_type": "code",
   "execution_count": 27,
   "metadata": {
    "collapsed": false
   },
   "outputs": [
    {
     "name": "stdout",
     "output_type": "stream",
     "text": [
      "Max value in test_list is 7\n",
      "Max value in test_list_2 is 5\n"
     ]
    }
   ],
   "source": [
    "def max_value(lst):\n",
    "    \"\"\" Finds and returns the max value in list lst\"\"\"\n",
    "    max_val = None\n",
    "    for val in lst:\n",
    "        if val > max_val:\n",
    "            max_val = val\n",
    "    return max_val\n",
    "\n",
    "print 'Max value in test_list is %d' % max_value(test_list)\n",
    "\n",
    "print 'Max value in test_list_2 is %d' % max_value(test_list_2)"
   ]
  },
  {
   "cell_type": "code",
   "execution_count": null,
   "metadata": {
    "collapsed": true
   },
   "outputs": [],
   "source": [
    "def mean_value(lst):\n",
    "    return None\n",
    "\n",
    "def mode_value(lst):\n",
    "    return None"
   ]
  },
  {
   "cell_type": "code",
   "execution_count": 29,
   "metadata": {
    "collapsed": true
   },
   "outputs": [],
   "source": [
    "def mean_value(lst):\n",
    "    \"\"\" Finds and returns the mean value in list lst as a float\"\"\"\n",
    "    tot_val = 0\n",
    "    for val in lst:\n",
    "        tot_val = tot_val + val\n",
    "    # The Average is the (total value / # of values)\n",
    "    mean_val = 1.0 * tot_val / len(lst)\n",
    "    return mean_val"
   ]
  },
  {
   "cell_type": "code",
   "execution_count": 30,
   "metadata": {
    "collapsed": true
   },
   "outputs": [],
   "source": [
    "def mode_value(lst):\n",
    "    \"\"\" Finds and returns the mode value in list lst\"\"\"\n",
    "    val_dict = {}\n",
    "    for val in lst:\n",
    "        if val in val_dict.keys():\n",
    "            val_dict[val] = val_dict[val] + 1\n",
    "        else:\n",
    "            val_dict[val] = 1\n",
    "    # We're using the function we built above!!\n",
    "    max_count = max_value(val_dict.values())\n",
    "    \n",
    "    for key in val_dict.keys():\n",
    "        if val_dict[key] == max_count:\n",
    "            return key\n",
    "    return None"
   ]
  },
  {
   "cell_type": "code",
   "execution_count": 31,
   "metadata": {
    "collapsed": false
   },
   "outputs": [
    {
     "name": "stdout",
     "output_type": "stream",
     "text": [
      "3.66666666667\n",
      "2.71428571429\n"
     ]
    }
   ],
   "source": [
    "print mean_value(test_list)\n",
    "print mean_value(test_list_2)"
   ]
  },
  {
   "cell_type": "code",
   "execution_count": 32,
   "metadata": {
    "collapsed": false
   },
   "outputs": [
    {
     "name": "stdout",
     "output_type": "stream",
     "text": [
      "1\n",
      "2\n"
     ]
    }
   ],
   "source": [
    "print mode_value(test_list)\n",
    "print mode_value(test_list_2)"
   ]
  },
  {
   "cell_type": "markdown",
   "metadata": {},
   "source": [
    "### Exercise 1.3\n",
    "#### Try writing a function that takes a string and returns the first 4 characters that are not vowels"
   ]
  },
  {
   "cell_type": "code",
   "execution_count": null,
   "metadata": {
    "collapsed": true
   },
   "outputs": [],
   "source": [
    "input_string = 'a man walked'\n",
    "# Work from here!\n",
    "# Build out the no_vowels function\n",
    "def no_vowels(string):\n",
    "    return string\n",
    "\n"
   ]
  },
  {
   "cell_type": "markdown",
   "metadata": {},
   "source": [
    "### Python Classes\n",
    "A class allows you to build your own object types and organize functionality.\n",
    "\n",
    "Each class must have an __init__() function\n",
    "    - This is used by python when creating the object.\n",
    "A function inside a class is called ```method```, and it can have itself as a parameter (self)\n",
    "    - This allows us to store and use values later"
   ]
  },
  {
   "cell_type": "code",
   "execution_count": null,
   "metadata": {
    "collapsed": false
   },
   "outputs": [],
   "source": [
    "class Calculator(object):\n",
    "    \n",
    "    \n",
    "    def __init__(self, x=0):\n",
    "        self.result = x\n",
    "    \n",
    "    # The __str__ method is called when we use print\n",
    "    # this is how we define that for our class\n",
    "    def __str__(self):\n",
    "        return str(self.result)\n",
    "    \n",
    "    def factorial(self):\n",
    "        val = 1\n",
    "        for n in range(2,self.result+1):\n",
    "            val = val*n\n",
    "        self.result = val\n",
    "        return self.result\n",
    "    \n",
    "    def add(self,y):\n",
    "        self.result += y\n",
    "        return self.result"
   ]
  },
  {
   "cell_type": "code",
   "execution_count": null,
   "metadata": {
    "collapsed": false
   },
   "outputs": [],
   "source": [
    "calc = Calculator(4)\n",
    "print calc"
   ]
  },
  {
   "cell_type": "code",
   "execution_count": null,
   "metadata": {
    "collapsed": false
   },
   "outputs": [],
   "source": [
    "calc.factorial()\n",
    "print calc"
   ]
  },
  {
   "cell_type": "code",
   "execution_count": null,
   "metadata": {
    "collapsed": false
   },
   "outputs": [],
   "source": [
    "calc.add(5)\n",
    "print calc"
   ]
  },
  {
   "cell_type": "markdown",
   "metadata": {},
   "source": [
    "### Exercise 1.4\n",
    "\n",
    "#### Try adding the square function to our calculator class"
   ]
  },
  {
   "cell_type": "code",
   "execution_count": null,
   "metadata": {
    "collapsed": true
   },
   "outputs": [],
   "source": [
    "class Calculator(object):\n",
    "    \n",
    "    \n",
    "    def __init__(self, x=0):\n",
    "        self.result = x\n",
    "    \n",
    "    # The __str__ method is called when we use print\n",
    "    # this is how we define that for our class\n",
    "    def __str__(self):\n",
    "        return str(self.result)\n",
    "    \n",
    "    def factorial(self):\n",
    "        val = 1\n",
    "        for n in range(2,self.result+1):\n",
    "            val = val*n\n",
    "        self.result = val\n",
    "        return self.result\n",
    "    \n",
    "    def add(self,y):\n",
    "        self.result += y\n",
    "        return self.result\n",
    "    \n",
    "    def square(self):\n",
    "        # YOU DO: Implement the square function\n",
    "        # square the value x, store it, and return it\n",
    "        return None"
   ]
  },
  {
   "cell_type": "markdown",
   "metadata": {},
   "source": [
    "##### Answer:"
   ]
  },
  {
   "cell_type": "code",
   "execution_count": 37,
   "metadata": {
    "collapsed": false
   },
   "outputs": [],
   "source": [
    "class Calculator(object):\n",
    "    \n",
    "    \n",
    "    def __init__(self, x=0):\n",
    "        self.result = x\n",
    "    \n",
    "    # The __str__ method is called when we use print\n",
    "    # this is how we define that for our class\n",
    "    def __str__(self):\n",
    "        return str(self.result)\n",
    "    \n",
    "    def factorial(self):\n",
    "        val = 1\n",
    "        for n in range(2,self.result+1):\n",
    "            val = val*n\n",
    "        self.result = val\n",
    "        return self.result\n",
    "    \n",
    "    def add(self,y):\n",
    "        self.result += y\n",
    "        return self.result\n",
    "    \n",
    "    def square(self):\n",
    "        # YOU DO: Implement the square function\n",
    "        # square the value x, store it, and return it\n",
    "        self.result = self.result ** 2\n",
    "        return self.result"
   ]
  },
  {
   "cell_type": "code",
   "execution_count": 39,
   "metadata": {
    "collapsed": false
   },
   "outputs": [
    {
     "name": "stdout",
     "output_type": "stream",
     "text": [
      "144\n"
     ]
    }
   ],
   "source": [
    "# YOU DO: Once You've built out the square function\n",
    "# If you built the square function, this should print 144\n",
    "calc = Calculator(12)\n",
    "calc.square()\n",
    "print calc\n",
    "\n",
    "# Assert can be used for testing\n",
    "# It throws an error if the statement is false\n",
    "assert calc.result == 144"
   ]
  },
  {
   "cell_type": "markdown",
   "metadata": {},
   "source": [
    "## Lab Section 1 End"
   ]
  }
 ],
 "metadata": {
  "kernelspec": {
   "display_name": "Python 2",
   "language": "python",
   "name": "python2"
  },
  "language_info": {
   "codemirror_mode": {
    "name": "ipython",
    "version": 2
   },
   "file_extension": ".py",
   "mimetype": "text/x-python",
   "name": "python",
   "nbconvert_exporter": "python",
   "pygments_lexer": "ipython2",
   "version": "2.7.10"
  }
 },
 "nbformat": 4,
 "nbformat_minor": 0
}
