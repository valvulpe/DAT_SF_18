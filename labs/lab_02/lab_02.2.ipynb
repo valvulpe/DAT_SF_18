{
 "cells": [
  {
   "cell_type": "markdown",
   "metadata": {},
   "source": [
    "# Linear Algebra"
   ]
  },
  {
   "cell_type": "markdown",
   "metadata": {},
   "source": [
    "#### Importing Packages\n",
    "Python has an extensive collection of third-party libraries, or ***packages***, with additional functions, data-structures, etc.  Many (most?) packages of interest are hosted on the Python Package Index ***pypi***, and can be installed into your environment using ***pip***.  The Anaconda distribution in the pre-work includes a number of these that are useful in data science, so you should have most of them installed already.  \n",
    "\n",
    "ref:  https://pypi.python.org/pypi"
   ]
  },
  {
   "cell_type": "markdown",
   "metadata": {},
   "source": [
    "A note on namespaces when importing - there are a few different ways to import:\n",
    "\n",
    "    1. import numpy\n",
    "\n",
    "    - all submodules of numpy are accessible in the numpy namespace\n",
    "    - e.g. numpy.array([1,2,3])\n",
    "\n",
    "\n",
    "    2. import numpy as np\n",
    "\n",
    "    - same as 1 except an alias 'np' is created for the namespace instead\n",
    "    - e.g. np.array([1,2,3])\n",
    "\n",
    "\n",
    "    3. from numpy import *\n",
    "\n",
    "    - adds all submodules to global namespace\n",
    "    - e.g. array([1,2,3])\n",
    "    - Note: This can be dangerous because if different modules have submodules with the same name than whatever is imported last will overrite what came before it - i.e. naming collision -> overwriting!.\n",
    "    \n",
    "    4. from numpy import array\n",
    "    \n",
    "    - will import only the indicated submodules into the global namespace\n",
    "    - e.g. array([1,2,3])\n",
    "    - Note: can be ok since you are being explicit\n",
    "    \n",
    "    We will generally use 2 and 4 (sparingly)"
   ]
  },
  {
   "cell_type": "markdown",
   "metadata": {
    "collapsed": true
   },
   "source": [
    "### NumPy\n",
    "\n",
    "As we've seen in lecture, linear algebra is the branch of mathematics describing navigation between different vector spaces. This core concept is very important as various data science techniques rely upon it (e.g. Linear Regression, Support Vector Machines, Recommender Systems, Neural Networks).\n",
    "\n",
    "NumPy is a package designed to be used in scientific computing, and specifically around building and manipulating N-dimensional array objects."
   ]
  },
  {
   "cell_type": "code",
   "execution_count": 2,
   "metadata": {
    "collapsed": false
   },
   "outputs": [],
   "source": [
    "import numpy\n",
    "\n",
    "import numpy as np\n",
    "\n",
    "from numpy import absolute\n",
    "\n",
    "# The next one is dangerous to do, and not recommended \n",
    "# except in cases where you know why you're using it\n",
    "# from numpy import *"
   ]
  },
  {
   "cell_type": "markdown",
   "metadata": {},
   "source": [
    "Now we can do the same thing three ways"
   ]
  },
  {
   "cell_type": "code",
   "execution_count": null,
   "metadata": {
    "collapsed": false
   },
   "outputs": [],
   "source": [
    "print numpy.absolute(-10)\n",
    "print np.absolute(-10)\n",
    "print absolute(-10)"
   ]
  },
  {
   "cell_type": "markdown",
   "metadata": {},
   "source": [
    "We can create the Linear Algebra Objects we saw in lecture"
   ]
  },
  {
   "cell_type": "code",
   "execution_count": null,
   "metadata": {
    "collapsed": false
   },
   "outputs": [],
   "source": [
    "vector = np.array([1, 2, 1])"
   ]
  },
  {
   "cell_type": "code",
   "execution_count": null,
   "metadata": {
    "collapsed": false
   },
   "outputs": [],
   "source": [
    "data = np.array([[1, 2, 3],[2, 4, 9]])\n",
    "data"
   ]
  },
  {
   "cell_type": "code",
   "execution_count": null,
   "metadata": {
    "collapsed": false
   },
   "outputs": [],
   "source": [
    "data[0]  # first row"
   ]
  },
  {
   "cell_type": "code",
   "execution_count": null,
   "metadata": {
    "collapsed": false
   },
   "outputs": [],
   "source": [
    "data[ : , 1]  # all rows, second column"
   ]
  },
  {
   "cell_type": "markdown",
   "metadata": {},
   "source": [
    "Numpy lets us perform matrix operations"
   ]
  },
  {
   "cell_type": "code",
   "execution_count": null,
   "metadata": {
    "collapsed": false
   },
   "outputs": [],
   "source": [
    "np.dot(data, vector)"
   ]
  },
  {
   "cell_type": "markdown",
   "metadata": {},
   "source": [
    "We can transpose an array"
   ]
  },
  {
   "cell_type": "code",
   "execution_count": null,
   "metadata": {
    "collapsed": false
   },
   "outputs": [],
   "source": [
    "print data\n",
    "print data.T"
   ]
  },
  {
   "cell_type": "markdown",
   "metadata": {},
   "source": [
    "#### Creating a square matrix array"
   ]
  },
  {
   "cell_type": "code",
   "execution_count": null,
   "metadata": {
    "collapsed": false
   },
   "outputs": [],
   "source": [
    "a = np.arange(25).reshape(5,5)\n",
    "# arange(n) is a function that creates a 1 row array of integers of length n \n",
    "# reshape(M,N) is a method converts a list to a matrix of size MxN\n",
    "a"
   ]
  },
  {
   "cell_type": "code",
   "execution_count": null,
   "metadata": {
    "collapsed": false
   },
   "outputs": [],
   "source": [
    "biga = a*10\n",
    "biga"
   ]
  },
  {
   "cell_type": "code",
   "execution_count": null,
   "metadata": {
    "collapsed": false
   },
   "outputs": [],
   "source": [
    "print biga.mean()\n",
    "print biga.mean(0) #Average per column\n",
    "biga.mean(1) #average per row\n",
    "# type(biga.mean(1))"
   ]
  },
  {
   "cell_type": "markdown",
   "metadata": {},
   "source": [
    "Creating a matrix with numpy"
   ]
  },
  {
   "cell_type": "code",
   "execution_count": null,
   "metadata": {
    "collapsed": false
   },
   "outputs": [],
   "source": [
    "bigm = np.matrix(biga-20)\n",
    "bigm"
   ]
  },
  {
   "cell_type": "markdown",
   "metadata": {},
   "source": [
    "Creating the Inverse of a Matrix"
   ]
  },
  {
   "cell_type": "code",
   "execution_count": null,
   "metadata": {
    "collapsed": false
   },
   "outputs": [],
   "source": [
    "np.linalg.inv(biga-20)"
   ]
  },
  {
   "cell_type": "markdown",
   "metadata": {},
   "source": [
    "#### Slices"
   ]
  },
  {
   "cell_type": "code",
   "execution_count": null,
   "metadata": {
    "collapsed": false
   },
   "outputs": [],
   "source": [
    "bigm = np.array(bigm)\n",
    "print bigm\n",
    "bigm[0]"
   ]
  },
  {
   "cell_type": "code",
   "execution_count": null,
   "metadata": {
    "collapsed": false
   },
   "outputs": [],
   "source": [
    "#Same thing, but demonstrating the full slice with a colon\n",
    "print biga\n",
    "biga[0,:]"
   ]
  },
  {
   "cell_type": "markdown",
   "metadata": {},
   "source": [
    "#### Describing your Arrays"
   ]
  },
  {
   "cell_type": "code",
   "execution_count": null,
   "metadata": {
    "collapsed": false
   },
   "outputs": [],
   "source": [
    "compa = np.arange(30).reshape(5,3,2)\n",
    "compa"
   ]
  },
  {
   "cell_type": "code",
   "execution_count": null,
   "metadata": {
    "collapsed": false
   },
   "outputs": [],
   "source": [
    "# lets describe it\n",
    "print compa.shape\n",
    "print compa.ndim\n",
    "print compa.dtype"
   ]
  },
  {
   "cell_type": "code",
   "execution_count": null,
   "metadata": {
    "collapsed": false
   },
   "outputs": [],
   "source": [
    "compa[3,:,1]"
   ]
  },
  {
   "cell_type": "code",
   "execution_count": null,
   "metadata": {
    "collapsed": false
   },
   "outputs": [],
   "source": [
    "# We can assign values using list-like index\n",
    "# But be careful on types\n",
    "compa[0,0,0] = 5.9\n",
    "compa[0,0,0"
   ]
  },
  {
   "cell_type": "markdown",
   "metadata": {},
   "source": [
    "We can change the datatype when needed"
   ]
  },
  {
   "cell_type": "code",
   "execution_count": null,
   "metadata": {
    "collapsed": false
   },
   "outputs": [],
   "source": [
    "compa = compa.astype(float)\n",
    "compa[0,0,0] = 5.75\n",
    "compa[0,0,0]"
   ]
  },
  {
   "cell_type": "markdown",
   "metadata": {},
   "source": [
    "#### Stacking arrays\n",
    "\n",
    "You must stack using dimensions of the saem size"
   ]
  },
  {
   "cell_type": "code",
   "execution_count": 36,
   "metadata": {
    "collapsed": false
   },
   "outputs": [
    {
     "name": "stdout",
     "output_type": "stream",
     "text": [
      "H Stack\n",
      "[1 2 3 2 3 4]\n",
      "V Stack\n",
      "[[1 2 3]\n",
      " [2 3 4]]\n"
     ]
    }
   ],
   "source": [
    "a = np.array((1,2,3))\n",
    "b = np.array((2,3,4))\n",
    "print 'H Stack'\n",
    "print np.hstack((a,b))\n",
    "print 'V Stack'\n",
    "print np.vstack((a,b))"
   ]
  },
  {
   "cell_type": "code",
   "execution_count": 37,
   "metadata": {
    "collapsed": false
   },
   "outputs": [
    {
     "name": "stdout",
     "output_type": "stream",
     "text": [
      "H Stack\n",
      "[[1 2]\n",
      " [2 3]\n",
      " [3 4]]\n",
      "V Stack\n",
      "[[1]\n",
      " [2]\n",
      " [3]\n",
      " [2]\n",
      " [3]\n",
      " [4]]\n"
     ]
    }
   ],
   "source": [
    "a = np.array([[1],[2],[3]])\n",
    "b = np.array([[2],[3],[4]])\n",
    "print 'H Stack'\n",
    "print np.hstack((a,b))\n",
    "print 'V Stack'\n",
    "print np.vstack((a,b))"
   ]
  },
  {
   "cell_type": "markdown",
   "metadata": {},
   "source": [
    "### Using Random Numbers\n",
    "\n",
    "Random numbers are very helpful and are necessary at times for testing data pipelines and running statistical analyses. Functions for creating random values are under numpy.random."
   ]
  },
  {
   "cell_type": "code",
   "execution_count": 38,
   "metadata": {
    "collapsed": false
   },
   "outputs": [
    {
     "data": {
      "text/plain": [
       "array([[ 0.55211273,  0.02291274,  0.88483004,  0.4163007 ,  0.794886  ],\n",
       "       [ 0.42604908,  0.39725043,  0.38803416,  0.64084183,  0.72135545],\n",
       "       [ 0.83814379,  0.73982818,  0.44033049,  0.37719339,  0.99237314],\n",
       "       [ 0.84047033,  0.52205681,  0.74068012,  0.89258891,  0.37383943],\n",
       "       [ 0.50065524,  0.36245237,  0.53077972,  0.20083686,  0.82874197]])"
      ]
     },
     "execution_count": 38,
     "metadata": {},
     "output_type": "execute_result"
    }
   ],
   "source": [
    "#Create a randomized array\n",
    "rm = np.random.rand(5,5)\n",
    "rm"
   ]
  },
  {
   "cell_type": "code",
   "execution_count": null,
   "metadata": {
    "collapsed": false
   },
   "outputs": [],
   "source": [
    "rm.shape"
   ]
  },
  {
   "cell_type": "markdown",
   "metadata": {},
   "source": [
    "You can shuffle values randomly as well"
   ]
  },
  {
   "cell_type": "code",
   "execution_count": 39,
   "metadata": {
    "collapsed": false
   },
   "outputs": [
    {
     "data": {
      "text/plain": [
       "array([[ 0.83814379,  0.73982818,  0.44033049,  0.37719339,  0.99237314],\n",
       "       [ 0.42604908,  0.39725043,  0.38803416,  0.64084183,  0.72135545],\n",
       "       [ 0.55211273,  0.02291274,  0.88483004,  0.4163007 ,  0.794886  ],\n",
       "       [ 0.84047033,  0.52205681,  0.74068012,  0.89258891,  0.37383943],\n",
       "       [ 0.50065524,  0.36245237,  0.53077972,  0.20083686,  0.82874197]])"
      ]
     },
     "execution_count": 39,
     "metadata": {},
     "output_type": "execute_result"
    }
   ],
   "source": [
    "# This will shuffle along the first index of a multi-dimensional array\n",
    "np.random.shuffle(rm)\n",
    "rm"
   ]
  },
  {
   "cell_type": "code",
   "execution_count": 40,
   "metadata": {
    "collapsed": false
   },
   "outputs": [
    {
     "name": "stdout",
     "output_type": "stream",
     "text": [
      "0.577021755754\n",
      "[ 0.63148623  0.40890011  0.59693091  0.50555234  0.7422392 ]\n",
      "[ 0.6775738   0.51470619  0.53420844  0.67392712  0.48469323]\n"
     ]
    }
   ],
   "source": [
    "print rm.mean()\n",
    "print rm.mean(0) #Average per column\n",
    "print rm.mean(1) #average per row"
   ]
  },
  {
   "cell_type": "code",
   "execution_count": 41,
   "metadata": {
    "collapsed": false
   },
   "outputs": [
    {
     "data": {
      "text/plain": [
       "array([[  7.83264793e+00,   9.73625491e+00,  -6.82597708e+00,\n",
       "          8.76992491e+00,   7.54258695e-01,  -3.54833256e+00,\n",
       "          3.39540165e+00,   1.12815354e+00,   5.80738650e-01,\n",
       "         -4.75318977e+00,   4.06255252e+00,   5.53252314e+00,\n",
       "          1.23703840e+00,   8.78297520e+00,   4.12892521e+00,\n",
       "         -5.83673943e+00,   2.30818470e+00,  -4.70042227e+00,\n",
       "          1.28535884e+00,   1.11540575e+01,  -1.07920503e+01,\n",
       "          5.10632302e-01,  -7.39360412e+00,   1.67159760e+01,\n",
       "          1.14083917e+01,   1.33422680e+01,   1.62283368e+01,\n",
       "         -1.04448532e+01,  -2.89360008e+00,  -3.47488034e+00],\n",
       "       [ -2.47614709e+00,  -9.73466118e+00,   2.97055251e+00,\n",
       "          1.50192528e+01,   1.68694503e+00,   1.08081088e+01,\n",
       "          2.20855439e+01,   1.61988542e+01,   1.78559178e+01,\n",
       "          6.02531797e+00,   1.38970140e+01,   1.05879632e+01,\n",
       "         -8.96287820e+00,   1.19668738e-01,  -1.25541922e+01,\n",
       "          2.86231392e+00,  -1.55720397e+01,   1.58024817e+01,\n",
       "          1.81426069e+01,   6.56734386e+00,   2.09940291e+01,\n",
       "          2.04895571e+01,  -5.64182209e+00,   1.45129211e+01,\n",
       "          1.42000006e+01,   7.57115392e+00,   1.22505882e+01,\n",
       "          1.49053694e+01,  -7.87700994e-01,   7.82133633e+00],\n",
       "       [  9.00041816e+00,   1.33030200e+01,   1.38192672e+01,\n",
       "          2.27628004e+01,   1.36804075e+01,   5.04069900e+00,\n",
       "          6.32238215e+00,  -4.87691784e+00,   2.39147696e-01,\n",
       "         -7.36191256e+00,  -1.09895932e+00,   1.59349338e+00,\n",
       "          1.46334684e+01,  -5.37879111e+00,  -3.29835391e+00,\n",
       "          1.60408400e+01,  -6.42093445e-01,  -5.08156799e+00,\n",
       "          1.63520262e+01,  -7.33225518e+00,   5.97486112e+00,\n",
       "         -5.84428231e+00,   4.78036433e+00,  -2.95151536e+00,\n",
       "          8.05360541e+00,   1.97355389e+00,   1.39607257e+01,\n",
       "          1.75798908e+01,   1.60468719e+01,  -4.04945127e+00],\n",
       "       [  7.41024991e+00,   2.44356694e+00,   1.37801911e+01,\n",
       "         -3.04507654e+00,  -7.82956644e-01,   1.68710254e+01,\n",
       "          9.20427594e+00,  -3.94570060e+00,   4.37042322e+00,\n",
       "          1.57659915e+01,   7.46220181e+00,   1.89917922e+01,\n",
       "          1.46019772e+00,   3.16433474e+01,   1.27780757e+01,\n",
       "          2.85898241e+00,  -5.29356193e+00,  -2.15000818e+00,\n",
       "         -9.59207845e+00,   7.50902171e+00,   1.02114278e+01,\n",
       "          5.69055844e+00,  -1.83063877e+01,   1.04467287e+01,\n",
       "          7.40090339e+00,   1.55112149e+00,   4.69556763e+00,\n",
       "          7.53012151e+00,   9.52540257e+00,  -9.63008905e-01],\n",
       "       [  1.38430189e+01,   4.68467686e+00,   4.48849906e+00,\n",
       "          1.20244160e+01,   1.22514744e+01,   3.42068903e+00,\n",
       "          6.53524298e+00,   5.05264851e+00,   1.45382053e+00,\n",
       "         -5.80173899e+00,   5.46761977e+00,  -5.60393850e+00,\n",
       "          8.58764020e+00,   1.42581151e+01,  -1.76858798e+00,\n",
       "          2.05469337e+01,   6.78748606e+00,   5.62790026e+00,\n",
       "         -1.07159857e+01,   6.78944229e+00,   2.23237665e+01,\n",
       "          1.82368363e+01,   2.40700507e+01,   6.71973811e+00,\n",
       "         -7.53445497e+00,   5.95075622e+00,   1.59446816e+01,\n",
       "          7.10718442e+00,   6.55749721e+00,   9.63428170e+00],\n",
       "       [ -3.73787714e+00,  -6.53172756e-01,   9.02161392e+00,\n",
       "          1.58024233e-01,  -7.04630811e-01,   9.73822040e+00,\n",
       "          2.32967697e+01,  -6.29175025e+00,  -4.95089347e+00,\n",
       "         -1.93033285e+00,   3.00273467e+00,   6.04585188e+00,\n",
       "         -2.12536879e+00,   2.75332973e+00,   3.94513846e-01,\n",
       "          1.15641230e+01,  -1.51540257e+00,  -9.54650208e+00,\n",
       "         -2.66436374e+00,   6.65820056e+00,   1.23633531e+01,\n",
       "         -1.50601674e+00,   6.89776376e+00,   1.15167399e+00,\n",
       "          3.53440090e+00,   1.18634522e+00,   5.76735732e+00,\n",
       "         -5.25831909e+00,   7.67975719e-01,   1.50254710e+01],\n",
       "       [ -8.86028639e+00,   1.24888355e+01,   9.98951260e+00,\n",
       "          9.86271592e+00,  -2.13133667e-01,   1.00497383e+01,\n",
       "          3.91715606e+00,   9.15033770e+00,   7.97203652e+00,\n",
       "         -5.94142867e+00,   7.34928758e+00,  -1.35317430e+01,\n",
       "          8.10335495e+00,   3.86660425e+00,   1.34840347e+01,\n",
       "          9.99857398e+00,   4.69555309e+00,  -6.30051835e+00,\n",
       "         -8.75153394e-01,   5.86726443e+00,   4.07818942e+00,\n",
       "          8.26022916e+00,   1.60076842e+01,  -1.39565298e+01,\n",
       "          1.09737157e+01,   2.87924567e+01,  -3.47015781e+00,\n",
       "         -1.03019679e+01,   1.51565059e+01,   1.42799235e+01],\n",
       "       [  3.14752837e+00,   1.42409339e+01,   2.85664970e-01,\n",
       "         -3.78303028e-01,   5.56965181e+00,   2.00729835e+01,\n",
       "         -3.22508987e+00,   3.34558600e+00,   3.00809511e+00,\n",
       "          1.42640768e+01,  -1.00504004e+01,   1.32748883e+00,\n",
       "         -1.03581507e+00,   9.91242072e+00,   5.86324684e+00,\n",
       "          5.23875248e+00,   1.83428875e+01,   1.40060397e+01,\n",
       "         -4.94349107e+00,   9.72459797e+00,   3.61966471e+00,\n",
       "         -2.31918374e+00,   8.28428921e-01,   7.92107284e+00,\n",
       "          1.62774726e+01,  -6.94155839e+00,  -1.19606776e+01,\n",
       "          5.82743839e+00,   1.28411757e+01,   1.53524490e+01],\n",
       "       [ -1.30713056e+01,   1.51491306e+01,   6.01678931e+00,\n",
       "          2.51044787e+00,   7.40151061e+00,   1.90281609e+01,\n",
       "          7.10131020e+00,  -1.58447776e+00,   5.51647567e+00,\n",
       "          7.30899014e+00,  -6.14236924e+00,  -1.67630450e+01,\n",
       "          1.17696869e+00,  -1.18572097e+01,   1.65772557e+00,\n",
       "          1.20621258e+01,  -4.79591799e+00,   8.16087901e+00,\n",
       "         -3.99906861e+00,   2.05174718e+01,  -2.31073525e+00,\n",
       "          2.41570899e+01,   7.48831856e+00,  -7.25629877e+00,\n",
       "         -1.14288361e+00,   1.47597494e+01,  -3.36425685e+00,\n",
       "         -1.24809735e+00,  -4.32514150e+00,   8.49755673e+00],\n",
       "       [  8.01907604e+00,   4.16493450e+00,   1.92072377e+01,\n",
       "          4.10552812e+00,   1.36695115e+00,   8.17035938e+00,\n",
       "          1.24804237e+01,   5.29151796e+00,   6.75958778e+00,\n",
       "         -2.04373250e+00,   5.80717829e+00,  -3.60688100e+00,\n",
       "          3.13485394e+01,   8.48978097e+00,   4.57582772e+00,\n",
       "          2.69022702e+00,   6.57941887e+00,  -1.26260411e+01,\n",
       "          1.10435922e+01,   1.21558890e+01,  -5.55971486e+00,\n",
       "          2.31037712e+01,   1.70491972e+01,  -1.60822166e+01,\n",
       "          8.85784125e+00,  -5.89416356e+00,   2.41202973e+00,\n",
       "         -7.18884668e-01,   1.09488004e+01,  -2.14228297e+01],\n",
       "       [  7.91741976e+00,   1.22758346e+01,   8.52024405e+00,\n",
       "          4.30391852e+00,   1.14477134e+01,   1.57697522e+01,\n",
       "          1.10992696e+01,   4.85728293e+00,   1.47357175e+01,\n",
       "          4.95493305e+00,   1.18857725e+00,  -5.92168201e+00,\n",
       "          1.45390581e+01,   1.85851598e+01,   5.42793899e+00,\n",
       "         -1.12107991e+01,   1.09592729e+01,  -6.02356166e+00,\n",
       "          1.66004179e+01,   9.76596130e+00,  -4.12632189e+00,\n",
       "          2.12301237e+00,   1.15960955e+01,   8.08308005e+00,\n",
       "          2.23979224e+01,   3.05045848e+00,   6.91559394e+00,\n",
       "          1.08964534e+01,   2.12312764e+01,   2.03554641e+01],\n",
       "       [  6.85041025e+00,  -5.07359606e+00,  -2.52614993e+00,\n",
       "          1.58965113e+00,  -2.46772962e+00,   1.52633464e-01,\n",
       "          9.37478684e+00,  -3.27064682e+00,  -8.03355203e+00,\n",
       "          1.55205790e+01,   2.58771187e+00,   6.22412547e+00,\n",
       "          1.05382741e+01,  -1.00771138e+00,   2.09001055e+00,\n",
       "         -2.13162094e+00,   3.93334247e+00,  -3.83936258e+00,\n",
       "          6.28600743e+00,   1.03710032e+01,  -1.96095926e+01,\n",
       "          4.25391833e+00,  -1.65588358e+00,   1.62506798e+01,\n",
       "         -3.12951200e+00,   1.49656289e+01,   1.47109615e+01,\n",
       "          1.34118999e+01,   1.22472540e+01,   8.84614782e+00],\n",
       "       [  1.11481922e+01,   1.17977894e+01,   9.26262051e+00,\n",
       "          7.50812620e+00,  -1.15880697e+00,  -1.78175134e+00,\n",
       "          1.12664469e+01,   4.47421413e+00,  -3.56212442e+00,\n",
       "          1.46836698e+00,  -1.51717680e+01,   9.27973597e+00,\n",
       "         -1.59388345e-01,   1.03253790e+01,   3.29889937e+00,\n",
       "          2.22115198e+01,   9.68515327e-01,   1.89744723e+01,\n",
       "         -2.44280247e+00,   1.24356037e+01,   3.84320375e+00,\n",
       "         -1.25623480e+01,   2.19381579e+01,  -7.97569600e-01,\n",
       "          3.94313625e+00,   9.02802616e-01,   1.62740621e+01,\n",
       "          9.11350701e+00,  -3.65412493e+00,   1.89900729e+00],\n",
       "       [  5.86543925e+00,   7.89516449e+00,   1.06544577e+01,\n",
       "          4.28702548e+00,   1.43207816e+01,   9.95438713e+00,\n",
       "         -1.72773243e+01,   3.50270793e+00,   8.59571937e+00,\n",
       "          3.15660504e+00,  -1.51189921e+01,   1.59200736e+01,\n",
       "          2.00369131e+01,   1.41516821e+00,  -1.43016074e+01,\n",
       "          1.98111362e+01,   1.48569292e+01,  -4.47275223e+00,\n",
       "          1.63259319e+01,   7.05834273e+00,   1.80456990e+01,\n",
       "          3.08256418e+00,   5.30810419e+00,   5.24603979e+00,\n",
       "          1.94785112e+01,   1.53477257e+01,   2.58521989e+00,\n",
       "          1.10320848e+00,   7.13737141e+00,   8.72969559e+00],\n",
       "       [  1.61104846e+00,   1.62974299e+01,   2.47151602e+01,\n",
       "          1.26563018e+01,   1.61703782e+01,   1.93174879e+01,\n",
       "          7.20164089e+00,   9.58569837e+00,   4.23343718e+00,\n",
       "          5.02046831e+00,   1.05767576e+01,   2.59947067e+00,\n",
       "          2.99146083e+00,   4.35847025e+00,   1.22578706e+01,\n",
       "          2.83129026e+01,  -7.74783964e+00,  -1.73852534e+01,\n",
       "          2.37044304e+01,   1.20928577e+01,   9.31465815e+00,\n",
       "          1.01579390e+01,   1.58681640e+01,   4.74965819e+00,\n",
       "         -4.79098852e+00,  -6.92687915e+00,  -2.23064496e-02,\n",
       "          2.13135538e-01,  -5.72256652e-01,   2.75968029e+01],\n",
       "       [ -1.42860168e+01,   2.66937979e+00,   1.39017272e+01,\n",
       "          5.23657798e+00,  -3.13228473e+00,   8.57220964e+00,\n",
       "         -5.78560049e+00,   8.44941510e+00,   1.11252736e+01,\n",
       "          4.96349413e+00,   3.77647818e+00,   1.82516222e+01,\n",
       "          2.02512520e+01,  -4.93307537e+00,   5.49096972e+00,\n",
       "         -6.34865148e+00,   1.23210914e+01,   1.55366892e+01,\n",
       "          1.64404215e+00,   1.16699045e+01,   4.02443023e+00,\n",
       "          2.44691575e+00,   2.15192522e+00,   3.87274933e+00,\n",
       "         -1.65436503e+00,   9.55614899e+00,   1.25782122e+01,\n",
       "          3.35447242e+00,   1.04531256e+01,   1.05970026e+00],\n",
       "       [  7.08916067e+00,   1.77631735e+01,  -1.05575025e+01,\n",
       "          1.87633558e+01,   8.00082607e+00,   1.95967347e+01,\n",
       "         -9.44425157e+00,   3.47813361e+00,   1.04727558e+01,\n",
       "          8.31870033e+00,  -2.61367816e+00,  -4.77312098e+00,\n",
       "          5.78126479e+00,   7.36109933e+00,   9.40633503e+00,\n",
       "         -1.71062334e+00,   1.60342834e+01,   1.05652691e+01,\n",
       "          1.86429847e+00,   9.91017616e+00,   1.02116222e+01,\n",
       "          8.29863490e+00,   1.26495210e+01,   3.72128018e+00,\n",
       "         -1.39934533e+00,   4.05837723e+00,  -6.36098765e+00,\n",
       "          6.20959927e-01,   3.54936860e+00,   6.08726281e+00],\n",
       "       [  8.83063741e-01,   3.91648084e+00,  -6.89023516e+00,\n",
       "          5.20455661e-01,   4.92533102e+00,   3.80619279e+00,\n",
       "          4.69779485e+00,   4.00782195e+00,   1.20257495e+01,\n",
       "          1.92402337e+00,   2.63537872e+00,   1.38792834e+01,\n",
       "         -3.30019773e+00,   1.21383515e+01,   1.03987457e+01,\n",
       "         -3.73447148e+00,  -7.26806930e+00,   3.95113515e+00,\n",
       "          3.70894591e+00,  -1.33481656e+00,   1.02350564e+01,\n",
       "          5.50993914e+00,   3.74628040e+00,   8.46859760e+00,\n",
       "         -8.02857037e+00,   8.84859777e+00,   3.75045546e+00,\n",
       "         -7.55685173e+00,   5.23543178e+00,   9.14587486e+00],\n",
       "       [  3.11109156e+01,   8.78378322e+00,  -7.56119522e+00,\n",
       "          5.37079686e+00,   1.67342826e+01,   7.86019709e+00,\n",
       "         -3.70111788e-01,   9.82886304e+00,   1.82444839e+01,\n",
       "          9.25252868e+00,   9.71270522e+00,  -5.38395719e+00,\n",
       "          1.22538551e+01,   2.65522296e-01,   4.71313854e+00,\n",
       "          4.27575185e+00,  -5.91244729e+00,   7.81187709e+00,\n",
       "          6.38809338e+00,   6.51013102e+00,  -1.22641065e+00,\n",
       "          1.61288456e+01,   1.22282649e+01,   7.33389673e+00,\n",
       "         -1.78395284e+00,  -2.90409826e+00,   1.34066117e+01,\n",
       "          3.01207043e+00,   1.65165744e+01,   5.59896344e+00],\n",
       "       [  3.68750193e+00,   1.88707076e+00,   1.66981832e+00,\n",
       "          1.34424531e+01,  -1.27711314e+00,   8.81351022e+00,\n",
       "          5.54388107e+00,   9.60107220e+00,   4.01004931e+00,\n",
       "          9.63528141e+00,   6.19585384e+00,   4.29974112e+00,\n",
       "          8.31955504e+00,  -2.24105950e+01,   1.64130545e+01,\n",
       "          7.40319593e+00,  -5.44599551e+00,   4.26790387e+00,\n",
       "         -5.99138560e-01,  -6.82104835e+00,  -1.20252418e+01,\n",
       "          9.50543232e+00,  -8.94924373e+00,   1.30840381e+01,\n",
       "          1.76523697e+01,   1.45483758e+01,  -3.99153386e+00,\n",
       "          1.48659027e+00,   4.56357588e+00,   1.30803596e+01],\n",
       "       [  4.45542132e-01,   9.60139732e+00,   1.55205690e+01,\n",
       "          5.49367445e-01,  -1.50262379e+01,  -7.79450042e+00,\n",
       "          5.42741220e+00,   7.51868259e+00,   2.98767949e+01,\n",
       "          5.12362275e+00,   1.01005717e+01,   7.30087342e-01,\n",
       "          2.34534991e+01,   1.73899646e+01,   1.45138830e+00,\n",
       "          1.15173038e+01,   1.15464887e+01,   1.01517393e+01,\n",
       "          6.05181150e+00,   1.95014238e+01,   6.60330955e+00,\n",
       "         -9.10392567e+00,  -2.25188622e+00,   1.77073992e+01,\n",
       "          1.14542826e+01,  -4.77800389e+00,  -6.05330687e+00,\n",
       "          5.31583588e+00,  -1.71055424e+00,   1.14106821e+01],\n",
       "       [  1.35983148e+01,   2.84663686e+00,   2.48908912e+01,\n",
       "          1.15752873e+01,   7.58809932e+00,   6.56340522e+00,\n",
       "          1.40796768e+01,  -3.84887829e+00,  -3.50510501e+00,\n",
       "          4.77138356e+00,   8.32171334e+00,   3.82638035e-01,\n",
       "          1.14265825e+01,   7.77876343e+00,  -2.16491767e+00,\n",
       "          5.25167256e+00,  -1.42894055e+01,  -3.67404358e+00,\n",
       "         -6.51971017e+00,   2.18100771e+01,  -7.66223095e+00,\n",
       "          8.62999666e+00,   1.58236842e+00,   1.24048377e+01,\n",
       "          9.37912108e-01,   1.48183752e+01,  -3.87144138e-01,\n",
       "          1.33012309e+01,   3.71645823e+00,   1.28032463e+01],\n",
       "       [  9.76947695e+00,   1.53524521e+01,  -5.12081279e+00,\n",
       "          7.35086943e+00,   7.65045579e-01,  -1.62040226e+01,\n",
       "          4.80252679e+00,  -8.19884998e+00,   1.07759038e+01,\n",
       "          3.48637539e+00,   2.29971277e+01,   2.60226501e+01,\n",
       "          6.85245822e+00,   1.18249500e+00,  -1.06909332e+01,\n",
       "          1.76772763e+01,  -5.63281650e+00,  -1.01445152e+01,\n",
       "          1.34860337e+01,   3.23769316e+00,   1.61701056e+01,\n",
       "          1.44204201e+01,   1.57643830e+01,   1.11973929e+00,\n",
       "          5.38130600e+00,   7.04977736e+00,   1.02646875e+01,\n",
       "         -1.00779238e+01,   1.28881262e+01,   8.03659165e+00],\n",
       "       [  1.61606981e+01,   2.97294217e+00,   9.87764880e+00,\n",
       "         -3.44878982e+00,   1.24737142e+01,  -8.94255358e+00,\n",
       "         -5.49068276e+00,   7.88036358e+00,   5.20710335e+00,\n",
       "          1.15509828e+01,  -4.51051930e+00,   2.26501832e+01,\n",
       "         -5.47250147e+00,   2.26334981e+01,  -4.74595740e+00,\n",
       "         -8.36464862e+00,   6.24673755e+00,   8.00256073e+00,\n",
       "         -1.11806246e+01,   4.76417343e+00,  -1.78767282e+01,\n",
       "          7.91156050e+00,   5.97364139e+00,   1.91107235e+01,\n",
       "         -1.72790492e+00,   1.29870157e+01,   9.35945578e+00,\n",
       "         -4.64906873e+00,   7.00589956e+00,  -1.14189369e+01],\n",
       "       [ -1.08007597e+01,   7.81253538e+00,   1.90997577e+01,\n",
       "         -1.93516510e+00,   6.72174349e+00,   3.08044590e+00,\n",
       "         -5.20351049e-01,  -1.10735959e+00,   8.95877197e+00,\n",
       "          1.45130311e+01,  -9.53029532e+00,   3.89346669e+00,\n",
       "          9.90970249e+00,   1.08417261e+01,  -4.85793150e+00,\n",
       "          1.36530567e+01,   1.61497560e+01,   1.04778188e+01,\n",
       "         -9.95563014e+00,  -1.05936942e+00,   3.14515316e+00,\n",
       "         -2.56915392e+00,  -1.29789022e-01,   2.65393017e+00,\n",
       "          1.01845415e+01,   1.38288625e+01,   3.82612415e+00,\n",
       "          4.56878367e-02,   1.05348591e+01,   5.67255763e+00],\n",
       "       [ -4.88446312e+00,   4.86536943e+00,   6.20782492e+00,\n",
       "          6.80382251e+00,   4.05465119e+00,   1.66687745e+01,\n",
       "         -4.72470587e+00,   1.35488032e+01,  -3.66904902e+00,\n",
       "          4.81743771e+00,   8.29367386e-01,  -3.69031303e+00,\n",
       "          8.78879302e+00,   8.18753321e+00,   1.53126432e+01,\n",
       "         -2.76127208e+00,  -1.53504135e+01,  -3.26205288e+00,\n",
       "          6.36922877e-01,  -4.11146571e+00,   8.92318362e+00,\n",
       "          1.80583285e+01,   9.92368832e+00,   1.53658430e+01,\n",
       "          3.68141960e+00,   1.27248161e+00,  -4.27914989e-01,\n",
       "          1.28830852e-01,  -1.50670726e+00,   1.17572716e+01],\n",
       "       [  1.42417468e+00,   7.99127771e+00,  -3.93874105e+00,\n",
       "         -9.24326643e+00,   1.26321066e+01,   4.52919194e+00,\n",
       "         -9.10666825e-01,  -1.92682676e+01,   1.00279005e+01,\n",
       "          3.01105370e-01,   1.28709811e+01,  -7.23127547e-01,\n",
       "          4.10155545e-01,   1.08574679e+00,   1.02802553e+01,\n",
       "         -4.77324137e+00,   1.18997601e+01,   7.82412359e+00,\n",
       "          4.63595619e+00,  -1.39740738e+00,  -4.82560007e+00,\n",
       "          1.10581817e+01,  -4.59253201e+00,  -2.49785348e+00,\n",
       "          1.82296306e+01,   9.87126271e+00,   1.95110658e+01,\n",
       "         -5.27568030e+00,   9.09139961e+00,  -7.01592017e+00],\n",
       "       [ -3.17668242e+00,  -9.16866399e+00,   1.09475301e+01,\n",
       "          2.96453634e+01,   7.11260525e+00,   1.36433978e+01,\n",
       "          1.96113131e+01,  -1.37962781e+01,   2.29728496e+01,\n",
       "          3.45207273e-02,  -2.10190466e+00,   1.44440683e+01,\n",
       "          5.73046373e+00,   1.57900277e+01,   2.01349235e+01,\n",
       "          3.35686397e+00,   1.12486406e+01,   1.91111736e+01,\n",
       "          1.53220862e+01,  -1.73773166e+00,  -3.02904601e+00,\n",
       "          8.49286209e+00,  -7.51172877e+00,   1.45857505e+01,\n",
       "          1.08501157e+01,   2.98482009e+00,   2.28383270e+01,\n",
       "          1.43634987e+01,   9.86073063e+00,  -2.09146973e+01],\n",
       "       [  1.29128333e+00,   1.66111131e+01,   1.76580189e+01,\n",
       "          2.29716845e+01,   1.15186739e+01,   5.19930031e+00,\n",
       "         -6.09672213e+00,   6.21331989e+00,   4.15860467e+00,\n",
       "          9.21699694e+00,   1.16987253e+01,   1.03444956e+01,\n",
       "          1.00961667e+01,   1.25349793e+01,   1.82985150e+01,\n",
       "         -2.62570049e+00,   6.69040320e+00,   1.66167074e+01,\n",
       "         -1.06190696e+01,  -5.35618709e+00,  -6.39406853e+00,\n",
       "         -6.63172011e+00,   6.73937003e+00,   2.43882091e+01,\n",
       "          6.52159657e+00,   1.08922882e+01,   1.39304835e+01,\n",
       "         -2.91895321e+00,   5.02468106e+00,   8.90402604e-01],\n",
       "       [ -4.31803262e+00,  -8.23029844e+00,   3.36462656e+00,\n",
       "         -8.94418134e+00,  -2.85857038e+00,  -6.83257590e+00,\n",
       "          3.22044419e+00,   1.74788907e+01,  -6.58008035e+00,\n",
       "          9.64635839e+00,   1.62900762e+01,   1.28220415e+01,\n",
       "          3.14448842e+00,  -2.68874084e+00,  -1.17670145e+00,\n",
       "         -5.22219312e+00,   1.59790314e+01,   4.31866942e+00,\n",
       "          6.75384035e-01,   1.10344948e+01,   4.89309623e+00,\n",
       "          2.14277869e+00,   3.48189200e-01,   3.66534246e+00,\n",
       "          3.29087279e-01,   1.19015579e+01,   1.95684411e+01,\n",
       "          9.78685079e+00,   6.87710327e+00,  -1.02325006e+01]])"
      ]
     },
     "execution_count": 41,
     "metadata": {},
     "output_type": "execute_result"
    }
   ],
   "source": [
    "# for a different Normal Distribution, use np.random.normal\n",
    "rm = np.random.normal(5,9,(30,30))\n",
    "rm"
   ]
  },
  {
   "cell_type": "code",
   "execution_count": 42,
   "metadata": {
    "collapsed": false
   },
   "outputs": [
    {
     "name": "stdout",
     "output_type": "stream",
     "text": [
      "5.16946119332 which is hopefully close to the input mean\n",
      "82.2301284372 which variance = stdev squared\n",
      "5.31197003627\n"
     ]
    }
   ],
   "source": [
    "print rm.mean(), \"which is hopefully close to the input mean\"\n",
    "print rm.var(), \"which variance = stdev squared\"\n",
    "print np.median(rm)"
   ]
  },
  {
   "cell_type": "code",
   "execution_count": null,
   "metadata": {
    "collapsed": true
   },
   "outputs": [],
   "source": []
  },
  {
   "cell_type": "markdown",
   "metadata": {},
   "source": [
    "Find more distributions and random functions here: http://docs.scipy.org/doc/numpy/reference/routines.random.html"
   ]
  },
  {
   "cell_type": "markdown",
   "metadata": {},
   "source": [
    "### Exercise 1"
   ]
  },
  {
   "cell_type": "markdown",
   "metadata": {},
   "source": [
    "1) Create a 4x5 array of integers between 0 and 19"
   ]
  },
  {
   "cell_type": "code",
   "execution_count": 7,
   "metadata": {
    "collapsed": false
   },
   "outputs": [
    {
     "name": "stdout",
     "output_type": "stream",
     "text": [
      "[[ 0  1  2  3  4]\n",
      " [ 5  6  7  8  9]\n",
      " [10 11 12 13 14]\n",
      " [15 16 17 18 19]]\n"
     ]
    }
   ],
   "source": [
    "a = np.arange(20).reshape(4,5)\n",
    "print a"
   ]
  },
  {
   "cell_type": "markdown",
   "metadata": {},
   "source": [
    "2) Create a 50x500 array with a mean of 20 and variance of 100. Save it to a variable called  biggie"
   ]
  },
  {
   "cell_type": "code",
   "execution_count": 31,
   "metadata": {
    "collapsed": false
   },
   "outputs": [
    {
     "data": {
      "text/plain": [
       "20.012193247132373"
      ]
     },
     "execution_count": 31,
     "metadata": {},
     "output_type": "execute_result"
    }
   ],
   "source": [
    "biggie=np.random.normal(20,10,(50,500))\n",
    "biggie.mean()"
   ]
  },
  {
   "cell_type": "markdown",
   "metadata": {},
   "source": [
    "3) Change the mean of the array to a value within 1 of 0 and the variance within 1 of 25. Think about what the mean and the variance represent and try using various mathematical operations."
   ]
  },
  {
   "cell_type": "code",
   "execution_count": 32,
   "metadata": {
    "collapsed": false
   },
   "outputs": [
    {
     "name": "stdout",
     "output_type": "stream",
     "text": [
      "0.256096623566\n",
      "25.0502075552\n"
     ]
    }
   ],
   "source": [
    "b2=(biggie-19.5)/2\n",
    "print b2.mean()\n",
    "print b2.var()\n"
   ]
  },
  {
   "cell_type": "markdown",
   "metadata": {},
   "source": [
    "## Pandas (python package)\n",
    "\n",
    "Pandas is a Python package providing fast, flexible, and expressive data structures designed to make working with “relational” or “labeled” data both easy and intuitive.\n",
    "\n",
    "Pandas is great for tabular/indexed data"
   ]
  },
  {
   "cell_type": "code",
   "execution_count": 33,
   "metadata": {
    "collapsed": true
   },
   "outputs": [],
   "source": [
    "# NOTE: you should normally put all your imports at the top of the file\n",
    "import pandas as pd"
   ]
  },
  {
   "cell_type": "code",
   "execution_count": 34,
   "metadata": {
    "collapsed": false
   },
   "outputs": [],
   "source": [
    "data = pd.read_csv('../data/nytimes.csv')"
   ]
  },
  {
   "cell_type": "code",
   "execution_count": 35,
   "metadata": {
    "collapsed": false
   },
   "outputs": [
    {
     "data": {
      "text/html": [
       "<div>\n",
       "<table border=\"1\" class=\"dataframe\">\n",
       "  <thead>\n",
       "    <tr style=\"text-align: right;\">\n",
       "      <th></th>\n",
       "      <th>Age</th>\n",
       "      <th>Gender</th>\n",
       "      <th>Impressions</th>\n",
       "      <th>Clicks</th>\n",
       "      <th>Signed_In</th>\n",
       "    </tr>\n",
       "  </thead>\n",
       "  <tbody>\n",
       "    <tr>\n",
       "      <th>0</th>\n",
       "      <td>36</td>\n",
       "      <td>0</td>\n",
       "      <td>3</td>\n",
       "      <td>0</td>\n",
       "      <td>1</td>\n",
       "    </tr>\n",
       "    <tr>\n",
       "      <th>1</th>\n",
       "      <td>73</td>\n",
       "      <td>1</td>\n",
       "      <td>3</td>\n",
       "      <td>0</td>\n",
       "      <td>1</td>\n",
       "    </tr>\n",
       "    <tr>\n",
       "      <th>2</th>\n",
       "      <td>30</td>\n",
       "      <td>0</td>\n",
       "      <td>3</td>\n",
       "      <td>0</td>\n",
       "      <td>1</td>\n",
       "    </tr>\n",
       "    <tr>\n",
       "      <th>3</th>\n",
       "      <td>49</td>\n",
       "      <td>1</td>\n",
       "      <td>3</td>\n",
       "      <td>0</td>\n",
       "      <td>1</td>\n",
       "    </tr>\n",
       "  </tbody>\n",
       "</table>\n",
       "</div>"
      ],
      "text/plain": [
       "   Age  Gender  Impressions  Clicks  Signed_In\n",
       "0   36       0            3       0          1\n",
       "1   73       1            3       0          1\n",
       "2   30       0            3       0          1\n",
       "3   49       1            3       0          1"
      ]
     },
     "execution_count": 35,
     "metadata": {},
     "output_type": "execute_result"
    }
   ],
   "source": [
    "# Note here we're calling the head method on the dataframe to return the 'head' of the \n",
    "# dataframe, in this case the first 4 lines\n",
    "# head() actually creates a new copy of the data, this is important later in the course!\n",
    "data.head(4)"
   ]
  },
  {
   "cell_type": "code",
   "execution_count": null,
   "metadata": {
    "collapsed": false
   },
   "outputs": [],
   "source": [
    "data[0:4]"
   ]
  },
  {
   "cell_type": "code",
   "execution_count": 43,
   "metadata": {
    "collapsed": false
   },
   "outputs": [
    {
     "data": {
      "text/plain": [
       "Int64Index([     0,      1,      2,      3,      4,      5,      6,      7,\n",
       "                 8,      9, \n",
       "            ...\n",
       "            458431, 458432, 458433, 458434, 458435, 458436, 458437, 458438,\n",
       "            458439, 458440],\n",
       "           dtype='int64', length=458441)"
      ]
     },
     "execution_count": 43,
     "metadata": {},
     "output_type": "execute_result"
    }
   ],
   "source": [
    "# Each DataFrame has an index\n",
    "# Sometimes you will need to reindex\n",
    "data.index"
   ]
  },
  {
   "cell_type": "code",
   "execution_count": null,
   "metadata": {
    "collapsed": false
   },
   "outputs": [],
   "source": [
    "# This is a Series\n",
    "# A DataFrame is made of of several Series with the same index\n",
    "data.Age"
   ]
  },
  {
   "cell_type": "code",
   "execution_count": null,
   "metadata": {
    "collapsed": false
   },
   "outputs": [],
   "source": [
    "data.info()"
   ]
  },
  {
   "cell_type": "code",
   "execution_count": null,
   "metadata": {
    "collapsed": false
   },
   "outputs": [],
   "source": [
    "data.describe()"
   ]
  },
  {
   "cell_type": "code",
   "execution_count": null,
   "metadata": {
    "collapsed": false
   },
   "outputs": [],
   "source": [
    "# We can change this data into numpy\n",
    "type(data.Age.values)"
   ]
  },
  {
   "cell_type": "markdown",
   "metadata": {},
   "source": [
    "#### Just like in numpy, we can use mean, var, and other functions on the data"
   ]
  },
  {
   "cell_type": "code",
   "execution_count": null,
   "metadata": {
    "collapsed": false
   },
   "outputs": [],
   "source": [
    "print data.Age.mean()\n",
    "print data.Age.var()\n",
    "print data.Age.max()\n",
    "print data.Age.min()"
   ]
  },
  {
   "cell_type": "code",
   "execution_count": 44,
   "metadata": {
    "collapsed": true
   },
   "outputs": [],
   "source": [
    "# Function that groups users by age.\n",
    "def map_age_category(x):\n",
    "    if x < 18:\n",
    "        return '1'\n",
    "    elif x < 25:\n",
    "        return '2'\n",
    "    elif x < 32:\n",
    "        return '3'\n",
    "    elif x < 45:\n",
    "        return '4'\n",
    "    else:\n",
    "        return '5'\n",
    "\n",
    "data['age_categories'] = data['Age'].apply(map_age_category)"
   ]
  },
  {
   "cell_type": "code",
   "execution_count": 45,
   "metadata": {
    "collapsed": false
   },
   "outputs": [
    {
     "data": {
      "text/html": [
       "<div>\n",
       "<table border=\"1\" class=\"dataframe\">\n",
       "  <thead>\n",
       "    <tr style=\"text-align: right;\">\n",
       "      <th></th>\n",
       "      <th>Age</th>\n",
       "      <th>Gender</th>\n",
       "      <th>Impressions</th>\n",
       "      <th>Clicks</th>\n",
       "      <th>Signed_In</th>\n",
       "      <th>age_categories</th>\n",
       "    </tr>\n",
       "  </thead>\n",
       "  <tbody>\n",
       "    <tr>\n",
       "      <th>0</th>\n",
       "      <td>36</td>\n",
       "      <td>0</td>\n",
       "      <td>3</td>\n",
       "      <td>0</td>\n",
       "      <td>1</td>\n",
       "      <td>4</td>\n",
       "    </tr>\n",
       "    <tr>\n",
       "      <th>1</th>\n",
       "      <td>73</td>\n",
       "      <td>1</td>\n",
       "      <td>3</td>\n",
       "      <td>0</td>\n",
       "      <td>1</td>\n",
       "      <td>5</td>\n",
       "    </tr>\n",
       "    <tr>\n",
       "      <th>2</th>\n",
       "      <td>30</td>\n",
       "      <td>0</td>\n",
       "      <td>3</td>\n",
       "      <td>0</td>\n",
       "      <td>1</td>\n",
       "      <td>3</td>\n",
       "    </tr>\n",
       "    <tr>\n",
       "      <th>3</th>\n",
       "      <td>49</td>\n",
       "      <td>1</td>\n",
       "      <td>3</td>\n",
       "      <td>0</td>\n",
       "      <td>1</td>\n",
       "      <td>5</td>\n",
       "    </tr>\n",
       "    <tr>\n",
       "      <th>4</th>\n",
       "      <td>47</td>\n",
       "      <td>1</td>\n",
       "      <td>11</td>\n",
       "      <td>0</td>\n",
       "      <td>1</td>\n",
       "      <td>5</td>\n",
       "    </tr>\n",
       "  </tbody>\n",
       "</table>\n",
       "</div>"
      ],
      "text/plain": [
       "   Age  Gender  Impressions  Clicks  Signed_In age_categories\n",
       "0   36       0            3       0          1              4\n",
       "1   73       1            3       0          1              5\n",
       "2   30       0            3       0          1              3\n",
       "3   49       1            3       0          1              5\n",
       "4   47       1           11       0          1              5"
      ]
     },
     "execution_count": 45,
     "metadata": {},
     "output_type": "execute_result"
    }
   ],
   "source": [
    "data.head()"
   ]
  },
  {
   "cell_type": "markdown",
   "metadata": {},
   "source": [
    "#### Sorting data"
   ]
  },
  {
   "cell_type": "code",
   "execution_count": null,
   "metadata": {
    "collapsed": false
   },
   "outputs": [],
   "source": [
    "data.sort_index(axis=1, ascending=False).head()"
   ]
  },
  {
   "cell_type": "code",
   "execution_count": null,
   "metadata": {
    "collapsed": false
   },
   "outputs": [],
   "source": [
    "data.sort('Signed_In').head()"
   ]
  },
  {
   "cell_type": "code",
   "execution_count": 46,
   "metadata": {
    "collapsed": false
   },
   "outputs": [
    {
     "data": {
      "text/html": [
       "<div>\n",
       "<table border=\"1\" class=\"dataframe\">\n",
       "  <thead>\n",
       "    <tr style=\"text-align: right;\">\n",
       "      <th></th>\n",
       "      <th>col_a</th>\n",
       "      <th>numeric</th>\n",
       "    </tr>\n",
       "  </thead>\n",
       "  <tbody>\n",
       "    <tr>\n",
       "      <th>0</th>\n",
       "      <td>a</td>\n",
       "      <td>1</td>\n",
       "    </tr>\n",
       "    <tr>\n",
       "      <th>1</th>\n",
       "      <td>b</td>\n",
       "      <td>2</td>\n",
       "    </tr>\n",
       "    <tr>\n",
       "      <th>2</th>\n",
       "      <td>c</td>\n",
       "      <td>3</td>\n",
       "    </tr>\n",
       "  </tbody>\n",
       "</table>\n",
       "</div>"
      ],
      "text/plain": [
       "  col_a  numeric\n",
       "0     a        1\n",
       "1     b        2\n",
       "2     c        3"
      ]
     },
     "execution_count": 46,
     "metadata": {},
     "output_type": "execute_result"
    }
   ],
   "source": [
    "ran_data = [\n",
    "    ['a', 1]\n",
    "    , ['b', 2]\n",
    "    , ['c', 3]\n",
    "]\n",
    "df = pd.DataFrame(ran_data, columns=['col_a', 'numeric'])\n",
    "df"
   ]
  },
  {
   "cell_type": "markdown",
   "metadata": {},
   "source": [
    "#### Indexing functions\n",
    "\n",
    "Pandas Dataframes support various methods for indexing:\n",
    "\n",
    "- .iloc\n",
    "- .loc\n",
    "- .ix"
   ]
  },
  {
   "cell_type": "code",
   "execution_count": 47,
   "metadata": {
    "collapsed": false
   },
   "outputs": [
    {
     "data": {
      "text/html": [
       "<div>\n",
       "<table border=\"1\" class=\"dataframe\">\n",
       "  <thead>\n",
       "    <tr style=\"text-align: right;\">\n",
       "      <th></th>\n",
       "      <th>col_a</th>\n",
       "      <th>numeric</th>\n",
       "    </tr>\n",
       "  </thead>\n",
       "  <tbody>\n",
       "    <tr>\n",
       "      <th>0</th>\n",
       "      <td>a</td>\n",
       "      <td>1</td>\n",
       "    </tr>\n",
       "    <tr>\n",
       "      <th>1</th>\n",
       "      <td>b</td>\n",
       "      <td>2</td>\n",
       "    </tr>\n",
       "    <tr>\n",
       "      <th>2</th>\n",
       "      <td>c</td>\n",
       "      <td>3</td>\n",
       "    </tr>\n",
       "  </tbody>\n",
       "</table>\n",
       "</div>"
      ],
      "text/plain": [
       "  col_a  numeric\n",
       "0     a        1\n",
       "1     b        2\n",
       "2     c        3"
      ]
     },
     "execution_count": 47,
     "metadata": {},
     "output_type": "execute_result"
    }
   ],
   "source": [
    "df"
   ]
  },
  {
   "cell_type": "code",
   "execution_count": 48,
   "metadata": {
    "collapsed": false
   },
   "outputs": [
    {
     "data": {
      "text/plain": [
       "col_a      a\n",
       "numeric    1\n",
       "Name: 0, dtype: object"
      ]
     },
     "execution_count": 48,
     "metadata": {},
     "output_type": "execute_result"
    }
   ],
   "source": [
    "# iloc accesses a row by its row number\n",
    "df.iloc[0]"
   ]
  },
  {
   "cell_type": "code",
   "execution_count": 49,
   "metadata": {
    "collapsed": false
   },
   "outputs": [
    {
     "data": {
      "text/html": [
       "<div>\n",
       "<table border=\"1\" class=\"dataframe\">\n",
       "  <thead>\n",
       "    <tr style=\"text-align: right;\">\n",
       "      <th></th>\n",
       "      <th>numeric</th>\n",
       "    </tr>\n",
       "    <tr>\n",
       "      <th>col_a</th>\n",
       "      <th></th>\n",
       "    </tr>\n",
       "  </thead>\n",
       "  <tbody>\n",
       "    <tr>\n",
       "      <th>a</th>\n",
       "      <td>1</td>\n",
       "    </tr>\n",
       "    <tr>\n",
       "      <th>b</th>\n",
       "      <td>2</td>\n",
       "    </tr>\n",
       "    <tr>\n",
       "      <th>c</th>\n",
       "      <td>3</td>\n",
       "    </tr>\n",
       "  </tbody>\n",
       "</table>\n",
       "</div>"
      ],
      "text/plain": [
       "       numeric\n",
       "col_a         \n",
       "a            1\n",
       "b            2\n",
       "c            3"
      ]
     },
     "execution_count": 49,
     "metadata": {},
     "output_type": "execute_result"
    }
   ],
   "source": [
    "df.set_index('col_a', inplace = True)\n",
    "df"
   ]
  },
  {
   "cell_type": "code",
   "execution_count": 50,
   "metadata": {
    "collapsed": false
   },
   "outputs": [],
   "source": [
    "# loc accesses a dataframe row by its index label (or column label)\n",
    "df.loc['a'] = 5\n",
    "df.loc['b'] = 3"
   ]
  },
  {
   "cell_type": "code",
   "execution_count": null,
   "metadata": {
    "collapsed": false
   },
   "outputs": [],
   "source": [
    "df"
   ]
  },
  {
   "cell_type": "code",
   "execution_count": 51,
   "metadata": {
    "collapsed": false
   },
   "outputs": [
    {
     "data": {
      "text/html": [
       "<div>\n",
       "<table border=\"1\" class=\"dataframe\">\n",
       "  <thead>\n",
       "    <tr style=\"text-align: right;\">\n",
       "      <th></th>\n",
       "      <th>numeric</th>\n",
       "      <th>C</th>\n",
       "    </tr>\n",
       "    <tr>\n",
       "      <th>col_a</th>\n",
       "      <th></th>\n",
       "      <th></th>\n",
       "    </tr>\n",
       "  </thead>\n",
       "  <tbody>\n",
       "    <tr>\n",
       "      <th>a</th>\n",
       "      <td>5</td>\n",
       "      <td>5</td>\n",
       "    </tr>\n",
       "    <tr>\n",
       "      <th>b</th>\n",
       "      <td>3</td>\n",
       "      <td>3</td>\n",
       "    </tr>\n",
       "    <tr>\n",
       "      <th>c</th>\n",
       "      <td>3</td>\n",
       "      <td>3</td>\n",
       "    </tr>\n",
       "  </tbody>\n",
       "</table>\n",
       "</div>"
      ],
      "text/plain": [
       "       numeric  C\n",
       "col_a            \n",
       "a            5  5\n",
       "b            3  3\n",
       "c            3  3"
      ]
     },
     "execution_count": 51,
     "metadata": {},
     "output_type": "execute_result"
    }
   ],
   "source": [
    "# This can be used to add new columns\n",
    "df.loc[:,'C'] = df.loc[:,'numeric']\n",
    "\n",
    "df"
   ]
  },
  {
   "cell_type": "code",
   "execution_count": 52,
   "metadata": {
    "collapsed": false
   },
   "outputs": [
    {
     "data": {
      "text/html": [
       "<div>\n",
       "<table border=\"1\" class=\"dataframe\">\n",
       "  <thead>\n",
       "    <tr style=\"text-align: right;\">\n",
       "      <th></th>\n",
       "      <th>numeric</th>\n",
       "      <th>C</th>\n",
       "      <th>D</th>\n",
       "    </tr>\n",
       "    <tr>\n",
       "      <th>col_a</th>\n",
       "      <th></th>\n",
       "      <th></th>\n",
       "      <th></th>\n",
       "    </tr>\n",
       "  </thead>\n",
       "  <tbody>\n",
       "    <tr>\n",
       "      <th>a</th>\n",
       "      <td>5</td>\n",
       "      <td>5</td>\n",
       "      <td>5</td>\n",
       "    </tr>\n",
       "    <tr>\n",
       "      <th>b</th>\n",
       "      <td>3</td>\n",
       "      <td>3</td>\n",
       "      <td>3</td>\n",
       "    </tr>\n",
       "    <tr>\n",
       "      <th>c</th>\n",
       "      <td>3</td>\n",
       "      <td>3</td>\n",
       "      <td>3</td>\n",
       "    </tr>\n",
       "  </tbody>\n",
       "</table>\n",
       "</div>"
      ],
      "text/plain": [
       "       numeric  C  D\n",
       "col_a               \n",
       "a            5  5  5\n",
       "b            3  3  3\n",
       "c            3  3  3"
      ]
     },
     "execution_count": 52,
     "metadata": {},
     "output_type": "execute_result"
    }
   ],
   "source": [
    "# is equivalent to:\n",
    "df['D'] = df.loc[:,'numeric']\n",
    "\n",
    "df"
   ]
  },
  {
   "cell_type": "markdown",
   "metadata": {},
   "source": [
    ".ix is the generic form of indexers\n",
    "\n",
    "Values can be set by index and index + column"
   ]
  },
  {
   "cell_type": "code",
   "execution_count": 54,
   "metadata": {
    "collapsed": false
   },
   "outputs": [
    {
     "data": {
      "text/html": [
       "<div>\n",
       "<table border=\"1\" class=\"dataframe\">\n",
       "  <thead>\n",
       "    <tr style=\"text-align: right;\">\n",
       "      <th></th>\n",
       "      <th>numeric</th>\n",
       "      <th>C</th>\n",
       "      <th>D</th>\n",
       "    </tr>\n",
       "    <tr>\n",
       "      <th>col_a</th>\n",
       "      <th></th>\n",
       "      <th></th>\n",
       "      <th></th>\n",
       "    </tr>\n",
       "  </thead>\n",
       "  <tbody>\n",
       "    <tr>\n",
       "      <th>a</th>\n",
       "      <td>5</td>\n",
       "      <td>5</td>\n",
       "      <td>5</td>\n",
       "    </tr>\n",
       "    <tr>\n",
       "      <th>b</th>\n",
       "      <td>3</td>\n",
       "      <td>3</td>\n",
       "      <td>3</td>\n",
       "    </tr>\n",
       "    <tr>\n",
       "      <th>c</th>\n",
       "      <td>2</td>\n",
       "      <td>3</td>\n",
       "      <td>2</td>\n",
       "    </tr>\n",
       "  </tbody>\n",
       "</table>\n",
       "</div>"
      ],
      "text/plain": [
       "       numeric  C  D\n",
       "col_a               \n",
       "a            5  5  5\n",
       "b            3  3  3\n",
       "c            2  3  2"
      ]
     },
     "execution_count": 54,
     "metadata": {},
     "output_type": "execute_result"
    }
   ],
   "source": [
    "df.ix[2] = 2\n",
    "df.ix[2, 'C'] = 3\n",
    "\n",
    "df"
   ]
  },
  {
   "cell_type": "markdown",
   "metadata": {},
   "source": [
    "### Combining DataFrames\n",
    "#### Appending\n",
    "We can append dataframes together"
   ]
  },
  {
   "cell_type": "code",
   "execution_count": 55,
   "metadata": {
    "collapsed": false
   },
   "outputs": [
    {
     "data": {
      "text/html": [
       "<div>\n",
       "<table border=\"1\" class=\"dataframe\">\n",
       "  <thead>\n",
       "    <tr style=\"text-align: right;\">\n",
       "      <th></th>\n",
       "      <th>numeric</th>\n",
       "      <th>C</th>\n",
       "      <th>D</th>\n",
       "    </tr>\n",
       "    <tr>\n",
       "      <th>col_a</th>\n",
       "      <th></th>\n",
       "      <th></th>\n",
       "      <th></th>\n",
       "    </tr>\n",
       "  </thead>\n",
       "  <tbody>\n",
       "    <tr>\n",
       "      <th>a</th>\n",
       "      <td>5</td>\n",
       "      <td>5</td>\n",
       "      <td>5</td>\n",
       "    </tr>\n",
       "    <tr>\n",
       "      <th>b</th>\n",
       "      <td>3</td>\n",
       "      <td>3</td>\n",
       "      <td>3</td>\n",
       "    </tr>\n",
       "    <tr>\n",
       "      <th>c</th>\n",
       "      <td>2</td>\n",
       "      <td>3</td>\n",
       "      <td>2</td>\n",
       "    </tr>\n",
       "    <tr>\n",
       "      <th>a</th>\n",
       "      <td>5</td>\n",
       "      <td>5</td>\n",
       "      <td>5</td>\n",
       "    </tr>\n",
       "    <tr>\n",
       "      <th>b</th>\n",
       "      <td>3</td>\n",
       "      <td>3</td>\n",
       "      <td>3</td>\n",
       "    </tr>\n",
       "    <tr>\n",
       "      <th>c</th>\n",
       "      <td>2</td>\n",
       "      <td>3</td>\n",
       "      <td>2</td>\n",
       "    </tr>\n",
       "  </tbody>\n",
       "</table>\n",
       "</div>"
      ],
      "text/plain": [
       "       numeric  C  D\n",
       "col_a               \n",
       "a            5  5  5\n",
       "b            3  3  3\n",
       "c            2  3  2\n",
       "a            5  5  5\n",
       "b            3  3  3\n",
       "c            2  3  2"
      ]
     },
     "execution_count": 55,
     "metadata": {},
     "output_type": "execute_result"
    }
   ],
   "source": [
    "df_combine = df.append(df)\n",
    "df_combine"
   ]
  },
  {
   "cell_type": "code",
   "execution_count": 56,
   "metadata": {
    "collapsed": false
   },
   "outputs": [
    {
     "data": {
      "text/html": [
       "<div>\n",
       "<table border=\"1\" class=\"dataframe\">\n",
       "  <thead>\n",
       "    <tr style=\"text-align: right;\">\n",
       "      <th></th>\n",
       "      <th>col_a</th>\n",
       "      <th>numeric</th>\n",
       "      <th>C</th>\n",
       "      <th>D</th>\n",
       "    </tr>\n",
       "  </thead>\n",
       "  <tbody>\n",
       "    <tr>\n",
       "      <th>0</th>\n",
       "      <td>a</td>\n",
       "      <td>5</td>\n",
       "      <td>5</td>\n",
       "      <td>5</td>\n",
       "    </tr>\n",
       "    <tr>\n",
       "      <th>1</th>\n",
       "      <td>b</td>\n",
       "      <td>3</td>\n",
       "      <td>3</td>\n",
       "      <td>3</td>\n",
       "    </tr>\n",
       "    <tr>\n",
       "      <th>2</th>\n",
       "      <td>c</td>\n",
       "      <td>2</td>\n",
       "      <td>3</td>\n",
       "      <td>2</td>\n",
       "    </tr>\n",
       "    <tr>\n",
       "      <th>3</th>\n",
       "      <td>a</td>\n",
       "      <td>5</td>\n",
       "      <td>5</td>\n",
       "      <td>5</td>\n",
       "    </tr>\n",
       "    <tr>\n",
       "      <th>4</th>\n",
       "      <td>b</td>\n",
       "      <td>3</td>\n",
       "      <td>3</td>\n",
       "      <td>3</td>\n",
       "    </tr>\n",
       "    <tr>\n",
       "      <th>5</th>\n",
       "      <td>c</td>\n",
       "      <td>2</td>\n",
       "      <td>3</td>\n",
       "      <td>2</td>\n",
       "    </tr>\n",
       "  </tbody>\n",
       "</table>\n",
       "</div>"
      ],
      "text/plain": [
       "  col_a  numeric  C  D\n",
       "0     a        5  5  5\n",
       "1     b        3  3  3\n",
       "2     c        2  3  2\n",
       "3     a        5  5  5\n",
       "4     b        3  3  3\n",
       "5     c        2  3  2"
      ]
     },
     "execution_count": 56,
     "metadata": {},
     "output_type": "execute_result"
    }
   ],
   "source": [
    "# When DataFrames are appended together, we often need to create a new index\n",
    "df_combine.reset_index()"
   ]
  },
  {
   "cell_type": "markdown",
   "metadata": {},
   "source": [
    "#### Join lets us join together dataframes using their index"
   ]
  },
  {
   "cell_type": "code",
   "execution_count": 57,
   "metadata": {
    "collapsed": false
   },
   "outputs": [
    {
     "data": {
      "text/html": [
       "<div>\n",
       "<table border=\"1\" class=\"dataframe\">\n",
       "  <thead>\n",
       "    <tr style=\"text-align: right;\">\n",
       "      <th></th>\n",
       "      <th>col</th>\n",
       "    </tr>\n",
       "  </thead>\n",
       "  <tbody>\n",
       "    <tr>\n",
       "      <th>0</th>\n",
       "      <td>1</td>\n",
       "    </tr>\n",
       "    <tr>\n",
       "      <th>1</th>\n",
       "      <td>2</td>\n",
       "    </tr>\n",
       "    <tr>\n",
       "      <th>2</th>\n",
       "      <td>3</td>\n",
       "    </tr>\n",
       "  </tbody>\n",
       "</table>\n",
       "</div>"
      ],
      "text/plain": [
       "   col\n",
       "0    1\n",
       "1    2\n",
       "2    3"
      ]
     },
     "execution_count": 57,
     "metadata": {},
     "output_type": "execute_result"
    }
   ],
   "source": [
    "df_2 = pd.DataFrame([1, 2, 3], columns=['col'])\n",
    "df_2"
   ]
  },
  {
   "cell_type": "code",
   "execution_count": 58,
   "metadata": {
    "collapsed": false
   },
   "outputs": [
    {
     "data": {
      "text/html": [
       "<div>\n",
       "<table border=\"1\" class=\"dataframe\">\n",
       "  <thead>\n",
       "    <tr style=\"text-align: right;\">\n",
       "      <th></th>\n",
       "      <th>numeric</th>\n",
       "      <th>C</th>\n",
       "      <th>D</th>\n",
       "      <th>col</th>\n",
       "    </tr>\n",
       "    <tr>\n",
       "      <th>col_a</th>\n",
       "      <th></th>\n",
       "      <th></th>\n",
       "      <th></th>\n",
       "      <th></th>\n",
       "    </tr>\n",
       "  </thead>\n",
       "  <tbody>\n",
       "    <tr>\n",
       "      <th>a</th>\n",
       "      <td>5</td>\n",
       "      <td>5</td>\n",
       "      <td>5</td>\n",
       "      <td>NaN</td>\n",
       "    </tr>\n",
       "    <tr>\n",
       "      <th>b</th>\n",
       "      <td>3</td>\n",
       "      <td>3</td>\n",
       "      <td>3</td>\n",
       "      <td>NaN</td>\n",
       "    </tr>\n",
       "    <tr>\n",
       "      <th>c</th>\n",
       "      <td>2</td>\n",
       "      <td>3</td>\n",
       "      <td>2</td>\n",
       "      <td>NaN</td>\n",
       "    </tr>\n",
       "  </tbody>\n",
       "</table>\n",
       "</div>"
      ],
      "text/plain": [
       "       numeric  C  D  col\n",
       "col_a                    \n",
       "a            5  5  5  NaN\n",
       "b            3  3  3  NaN\n",
       "c            2  3  2  NaN"
      ]
     },
     "execution_count": 58,
     "metadata": {},
     "output_type": "execute_result"
    }
   ],
   "source": [
    "# The default is left join, so Null values are placed\n",
    "# where values are misssing\n",
    "df.join(df_2)\n"
   ]
  },
  {
   "cell_type": "code",
   "execution_count": 59,
   "metadata": {
    "collapsed": false
   },
   "outputs": [
    {
     "data": {
      "text/html": [
       "<div>\n",
       "<table border=\"1\" class=\"dataframe\">\n",
       "  <thead>\n",
       "    <tr style=\"text-align: right;\">\n",
       "      <th></th>\n",
       "      <th>col_a</th>\n",
       "      <th>numeric</th>\n",
       "      <th>C</th>\n",
       "      <th>D</th>\n",
       "    </tr>\n",
       "  </thead>\n",
       "  <tbody>\n",
       "    <tr>\n",
       "      <th>0</th>\n",
       "      <td>a</td>\n",
       "      <td>5</td>\n",
       "      <td>5</td>\n",
       "      <td>5</td>\n",
       "    </tr>\n",
       "    <tr>\n",
       "      <th>1</th>\n",
       "      <td>b</td>\n",
       "      <td>3</td>\n",
       "      <td>3</td>\n",
       "      <td>3</td>\n",
       "    </tr>\n",
       "    <tr>\n",
       "      <th>2</th>\n",
       "      <td>c</td>\n",
       "      <td>2</td>\n",
       "      <td>3</td>\n",
       "      <td>2</td>\n",
       "    </tr>\n",
       "  </tbody>\n",
       "</table>\n",
       "</div>"
      ],
      "text/plain": [
       "  col_a  numeric  C  D\n",
       "0     a        5  5  5\n",
       "1     b        3  3  3\n",
       "2     c        2  3  2"
      ]
     },
     "execution_count": 59,
     "metadata": {},
     "output_type": "execute_result"
    }
   ],
   "source": [
    "# reset the index\n",
    "df_1 = df.reset_index()\n",
    "df_1"
   ]
  },
  {
   "cell_type": "code",
   "execution_count": 60,
   "metadata": {
    "collapsed": false
   },
   "outputs": [
    {
     "data": {
      "text/html": [
       "<div>\n",
       "<table border=\"1\" class=\"dataframe\">\n",
       "  <thead>\n",
       "    <tr style=\"text-align: right;\">\n",
       "      <th></th>\n",
       "      <th>col_a</th>\n",
       "      <th>numeric</th>\n",
       "      <th>C</th>\n",
       "      <th>D</th>\n",
       "      <th>col</th>\n",
       "    </tr>\n",
       "  </thead>\n",
       "  <tbody>\n",
       "    <tr>\n",
       "      <th>0</th>\n",
       "      <td>a</td>\n",
       "      <td>5</td>\n",
       "      <td>5</td>\n",
       "      <td>5</td>\n",
       "      <td>1</td>\n",
       "    </tr>\n",
       "    <tr>\n",
       "      <th>1</th>\n",
       "      <td>b</td>\n",
       "      <td>3</td>\n",
       "      <td>3</td>\n",
       "      <td>3</td>\n",
       "      <td>2</td>\n",
       "    </tr>\n",
       "    <tr>\n",
       "      <th>2</th>\n",
       "      <td>c</td>\n",
       "      <td>2</td>\n",
       "      <td>3</td>\n",
       "      <td>2</td>\n",
       "      <td>3</td>\n",
       "    </tr>\n",
       "  </tbody>\n",
       "</table>\n",
       "</div>"
      ],
      "text/plain": [
       "  col_a  numeric  C  D  col\n",
       "0     a        5  5  5    1\n",
       "1     b        3  3  3    2\n",
       "2     c        2  3  2    3"
      ]
     },
     "execution_count": 60,
     "metadata": {},
     "output_type": "execute_result"
    }
   ],
   "source": [
    "# try joining again:\n",
    "df_1.join(df_2)\n"
   ]
  },
  {
   "cell_type": "markdown",
   "metadata": {},
   "source": [
    "#### Merge allows us to join on any fields"
   ]
  },
  {
   "cell_type": "code",
   "execution_count": null,
   "metadata": {
    "collapsed": false
   },
   "outputs": [],
   "source": [
    "# Merge has a default of inner join\n",
    "# So where the join misses rows are omitted\n",
    "df.merge(df_2, left_on='numeric', right_on='col')"
   ]
  },
  {
   "cell_type": "markdown",
   "metadata": {},
   "source": [
    "### Concat combines a list of DataFrames together"
   ]
  },
  {
   "cell_type": "code",
   "execution_count": 61,
   "metadata": {
    "collapsed": false
   },
   "outputs": [
    {
     "data": {
      "text/html": [
       "<div>\n",
       "<table border=\"1\" class=\"dataframe\">\n",
       "  <thead>\n",
       "    <tr style=\"text-align: right;\">\n",
       "      <th></th>\n",
       "      <th>numeric</th>\n",
       "      <th>C</th>\n",
       "      <th>D</th>\n",
       "    </tr>\n",
       "    <tr>\n",
       "      <th>col_a</th>\n",
       "      <th></th>\n",
       "      <th></th>\n",
       "      <th></th>\n",
       "    </tr>\n",
       "  </thead>\n",
       "  <tbody>\n",
       "    <tr>\n",
       "      <th>a</th>\n",
       "      <td>5</td>\n",
       "      <td>5</td>\n",
       "      <td>5</td>\n",
       "    </tr>\n",
       "    <tr>\n",
       "      <th>b</th>\n",
       "      <td>3</td>\n",
       "      <td>3</td>\n",
       "      <td>3</td>\n",
       "    </tr>\n",
       "    <tr>\n",
       "      <th>c</th>\n",
       "      <td>2</td>\n",
       "      <td>3</td>\n",
       "      <td>2</td>\n",
       "    </tr>\n",
       "    <tr>\n",
       "      <th>a</th>\n",
       "      <td>5</td>\n",
       "      <td>5</td>\n",
       "      <td>5</td>\n",
       "    </tr>\n",
       "    <tr>\n",
       "      <th>b</th>\n",
       "      <td>3</td>\n",
       "      <td>3</td>\n",
       "      <td>3</td>\n",
       "    </tr>\n",
       "    <tr>\n",
       "      <th>c</th>\n",
       "      <td>2</td>\n",
       "      <td>3</td>\n",
       "      <td>2</td>\n",
       "    </tr>\n",
       "  </tbody>\n",
       "</table>\n",
       "</div>"
      ],
      "text/plain": [
       "       numeric  C  D\n",
       "col_a               \n",
       "a            5  5  5\n",
       "b            3  3  3\n",
       "c            2  3  2\n",
       "a            5  5  5\n",
       "b            3  3  3\n",
       "c            2  3  2"
      ]
     },
     "execution_count": 61,
     "metadata": {},
     "output_type": "execute_result"
    }
   ],
   "source": [
    "# It can be used like append\n",
    "pd.concat([df, df])"
   ]
  },
  {
   "cell_type": "code",
   "execution_count": 62,
   "metadata": {
    "collapsed": false
   },
   "outputs": [
    {
     "data": {
      "text/html": [
       "<div>\n",
       "<table border=\"1\" class=\"dataframe\">\n",
       "  <thead>\n",
       "    <tr style=\"text-align: right;\">\n",
       "      <th></th>\n",
       "      <th>C</th>\n",
       "      <th>D</th>\n",
       "      <th>col</th>\n",
       "      <th>numeric</th>\n",
       "    </tr>\n",
       "    <tr>\n",
       "      <th>col_a</th>\n",
       "      <th></th>\n",
       "      <th></th>\n",
       "      <th></th>\n",
       "      <th></th>\n",
       "    </tr>\n",
       "  </thead>\n",
       "  <tbody>\n",
       "    <tr>\n",
       "      <th>a</th>\n",
       "      <td>5</td>\n",
       "      <td>5</td>\n",
       "      <td>NaN</td>\n",
       "      <td>5</td>\n",
       "    </tr>\n",
       "    <tr>\n",
       "      <th>b</th>\n",
       "      <td>3</td>\n",
       "      <td>3</td>\n",
       "      <td>NaN</td>\n",
       "      <td>3</td>\n",
       "    </tr>\n",
       "    <tr>\n",
       "      <th>c</th>\n",
       "      <td>3</td>\n",
       "      <td>2</td>\n",
       "      <td>NaN</td>\n",
       "      <td>2</td>\n",
       "    </tr>\n",
       "    <tr>\n",
       "      <th>0</th>\n",
       "      <td>NaN</td>\n",
       "      <td>NaN</td>\n",
       "      <td>1</td>\n",
       "      <td>NaN</td>\n",
       "    </tr>\n",
       "    <tr>\n",
       "      <th>1</th>\n",
       "      <td>NaN</td>\n",
       "      <td>NaN</td>\n",
       "      <td>2</td>\n",
       "      <td>NaN</td>\n",
       "    </tr>\n",
       "    <tr>\n",
       "      <th>2</th>\n",
       "      <td>NaN</td>\n",
       "      <td>NaN</td>\n",
       "      <td>3</td>\n",
       "      <td>NaN</td>\n",
       "    </tr>\n",
       "  </tbody>\n",
       "</table>\n",
       "</div>"
      ],
      "text/plain": [
       "        C   D  col  numeric\n",
       "col_a                      \n",
       "a       5   5  NaN        5\n",
       "b       3   3  NaN        3\n",
       "c       3   2  NaN        2\n",
       "0     NaN NaN    1      NaN\n",
       "1     NaN NaN    2      NaN\n",
       "2     NaN NaN    3      NaN"
      ]
     },
     "execution_count": 62,
     "metadata": {},
     "output_type": "execute_result"
    }
   ],
   "source": [
    "# But concat will create a spare DataFrame when columns don't match\n",
    "# This can create huge dataframes when mismatches occur\n",
    "pd.concat([df, df_2])"
   ]
  },
  {
   "cell_type": "markdown",
   "metadata": {},
   "source": [
    "## Exercise 2\n",
    "### Combining numpy and pandas"
   ]
  },
  {
   "cell_type": "markdown",
   "metadata": {},
   "source": [
    "1) Create 2 arrays of integers\n",
    "\n",
    "One should be created using np.random"
   ]
  },
  {
   "cell_type": "code",
   "execution_count": 73,
   "metadata": {
    "collapsed": false
   },
   "outputs": [
    {
     "name": "stdout",
     "output_type": "stream",
     "text": [
      "[[ 0.82475776  0.99850137  0.54420457  0.28169601]\n",
      " [ 0.3273314   0.86888112  0.21332459  0.6466872 ]\n",
      " [ 0.46189256  0.47824419  0.0206      0.11036246]\n",
      " [ 0.0881325   0.42721967  0.30069715  0.85102189]] [1 2 1]\n"
     ]
    }
   ],
   "source": [
    "a1 = np.random.rand(4,4)\n",
    "a2=np.array([1, 2, 1])\n",
    "print a1,a2"
   ]
  },
  {
   "cell_type": "markdown",
   "metadata": {},
   "source": [
    "2) Turn those arrays into pandas DataFrames\n",
    "\n",
    "The columns can be named numerically"
   ]
  },
  {
   "cell_type": "code",
   "execution_count": 74,
   "metadata": {
    "collapsed": false
   },
   "outputs": [
    {
     "name": "stdout",
     "output_type": "stream",
     "text": [
      "          0         1         2         3\n",
      "0  0.824758  0.998501  0.544205  0.281696\n",
      "1  0.327331  0.868881  0.213325  0.646687\n",
      "2  0.461893  0.478244  0.020600  0.110362\n",
      "3  0.088132  0.427220  0.300697  0.851022    0\n",
      "0  1\n",
      "1  2\n",
      "2  1\n"
     ]
    }
   ],
   "source": [
    "a1_pd=pd.DataFrame(a1)\n",
    "a2_pd=pd.DataFrame(a2)\n",
    "print a1_pd, a2_pd"
   ]
  },
  {
   "cell_type": "markdown",
   "metadata": {},
   "source": [
    "3) Use some of the summary functions on the dataframes and arrays\n",
    "\n",
    "Show how mean and var give the same response in python and numpy"
   ]
  },
  {
   "cell_type": "code",
   "execution_count": 75,
   "metadata": {
    "collapsed": false
   },
   "outputs": [
    {
     "name": "stdout",
     "output_type": "stream",
     "text": [
      "0.465222152885\n",
      "0.465222152885\n"
     ]
    }
   ],
   "source": [
    "print a1.mean()\n",
    "print a1_pd.mean().mean()"
   ]
  },
  {
   "cell_type": "markdown",
   "metadata": {},
   "source": [
    "\n",
    "4) Add an extra index using .loc"
   ]
  },
  {
   "cell_type": "code",
   "execution_count": null,
   "metadata": {
    "collapsed": true
   },
   "outputs": [],
   "source": []
  },
  {
   "cell_type": "markdown",
   "metadata": {},
   "source": [
    "5) Using merge or join, create a single DataFrame from the two"
   ]
  },
  {
   "cell_type": "code",
   "execution_count": null,
   "metadata": {
    "collapsed": true
   },
   "outputs": [],
   "source": []
  },
  {
   "cell_type": "markdown",
   "metadata": {},
   "source": [
    "6) Try testing out the groupby functions\n",
    "\n",
    "df.groupby(column).agg (agg can be an aggregate function, try sum, max, min...)\n",
    "\n",
    "Resources can be found here: http://pandas.pydata.org/pandas-docs/stable/10min.html#grouping\n"
   ]
  },
  {
   "cell_type": "code",
   "execution_count": null,
   "metadata": {
    "collapsed": true
   },
   "outputs": [],
   "source": []
  },
  {
   "cell_type": "markdown",
   "metadata": {},
   "source": [
    "## Plotting!"
   ]
  },
  {
   "cell_type": "code",
   "execution_count": null,
   "metadata": {
    "collapsed": false
   },
   "outputs": [],
   "source": [
    "import pandas.io.data\n",
    "import datetime\n",
    "import matplotlib.pyplot as plt\n",
    "\n",
    "%matplotlib inline\n",
    "\n",
    "mu, sigma = 0, 0.1\n",
    "normal_dist = np.random.normal(mu, sigma, 1000)\n",
    "aapl = pd.io.data.get_data_yahoo('FB', \n",
    "                                 start=datetime.datetime(2015, 4, 1), \n",
    "                                 end=datetime.datetime(2015, 4, 28))\n",
    "aapl.head()"
   ]
  },
  {
   "cell_type": "markdown",
   "metadata": {},
   "source": [
    "## MatPlotLib\n",
    "\n",
    "MatPlotLib is a standard, granular method for building visualizations. Although tried and true, it can be cumbersome compared to other higher level packages such as Seaborn or Bokeh. Note most visualization packages use matplotlib as their base."
   ]
  },
  {
   "cell_type": "code",
   "execution_count": null,
   "metadata": {
    "collapsed": false
   },
   "outputs": [],
   "source": [
    "fig = plt.figure(figsize=(20,16))\n",
    "\n",
    "ax = fig.add_subplot(2,2,1)\n",
    "ax.plot(aapl.index, aapl['Close'])\n",
    "ax.set_title('Line plots', size=24)\n",
    "\n",
    "ax = fig.add_subplot(2,2,2)\n",
    "ax.plot(aapl['Close'], 'o')\n",
    "ax.set_title('Scatter plots', size=24)\n",
    "\n",
    "ax = fig.add_subplot(2,2,3)\n",
    "ax.hist(normal_dist, bins=50)\n",
    "ax.set_title('Histograms', size=24)\n",
    "ax.set_xlabel('count', size=16)\n",
    "\n",
    "ax = fig.add_subplot(2,2,4)\n",
    "ax.boxplot(normal_dist)\n",
    "ax.set_title('Boxplots', size=24)"
   ]
  },
  {
   "cell_type": "markdown",
   "metadata": {},
   "source": [
    "### Bokeh\n",
    "To install Bokeh, go to a terminal and type:\n",
    "\n",
    "`conda install bokeh` \n",
    "\n",
    "Bokeh is built by the same people that created Anaconda (Continuum Analytics) and is designed out of the box for web display, making it nice for creating presentation ready, interactive visuals quickly. Labs in this course will be shown in Bokeh. Checkout http://bokeh.pydata.org/en/latest/docs/quickstart.html#concepts to see some of the range of capabilities."
   ]
  },
  {
   "cell_type": "code",
   "execution_count": null,
   "metadata": {
    "collapsed": false
   },
   "outputs": [],
   "source": [
    "from bokeh.plotting import figure, output_notebook,show\n",
    "output_notebook()"
   ]
  },
  {
   "cell_type": "code",
   "execution_count": null,
   "metadata": {
    "collapsed": false
   },
   "outputs": [],
   "source": [
    "# prepare some data\n",
    "x = aapl.Low\n",
    "y = aapl['High']\n",
    "\n",
    "# create a new plot with a title and axis labels\n",
    "p = figure(title=\"Stock High vs. Low\", x_axis_label='Low', y_axis_label='High')\n",
    "\n",
    "# add a line renderer with legend and line thickness\n",
    "p.circle(x, y, legend=\"High vs. Low\", line_width=2)\n",
    "\n",
    "# show the results\n",
    "show(p)"
   ]
  },
  {
   "cell_type": "code",
   "execution_count": null,
   "metadata": {
    "collapsed": false
   },
   "outputs": [],
   "source": [
    "x = aapl.index\n",
    "y = aapl.Close\n",
    "p = figure(title=\"Stock Open & Close over time\", x_axis_label='Date', y_axis_label='High',x_axis_type=\"datetime\")\n",
    "# Note that I've declared the x_axis_type\n",
    "p.square(x, y, legend=\"Close\")\n",
    "p.circle(x,aapl.Open,legend='Open',color='red')\n",
    "# show the results\n",
    "show(p)"
   ]
  },
  {
   "cell_type": "markdown",
   "metadata": {},
   "source": [
    "## Pandas Plotting!\n",
    "\n",
    "The plot method is a great, quick way to visualize your dataframes. By selecting the columns you care to view, calling .plot() on the dataframe defaults to a line chart vs. the index.\n",
    "\n",
    "We will be revisiting this so just take a second to appreciate what can be done with one line of code."
   ]
  },
  {
   "cell_type": "code",
   "execution_count": null,
   "metadata": {
    "collapsed": false
   },
   "outputs": [],
   "source": [
    "aapl[['Open','Close']].plot()"
   ]
  },
  {
   "cell_type": "code",
   "execution_count": null,
   "metadata": {
    "collapsed": false
   },
   "outputs": [],
   "source": [
    "aapl[['High','Low','Open','Close']].plot(kind='box')"
   ]
  },
  {
   "cell_type": "code",
   "execution_count": null,
   "metadata": {
    "collapsed": true
   },
   "outputs": [],
   "source": []
  }
 ],
 "metadata": {
  "kernelspec": {
   "display_name": "Python 2",
   "language": "python",
   "name": "python2"
  },
  "language_info": {
   "codemirror_mode": {
    "name": "ipython",
    "version": 2
   },
   "file_extension": ".py",
   "mimetype": "text/x-python",
   "name": "python",
   "nbconvert_exporter": "python",
   "pygments_lexer": "ipython2",
   "version": "2.7.10"
  }
 },
 "nbformat": 4,
 "nbformat_minor": 0
}
