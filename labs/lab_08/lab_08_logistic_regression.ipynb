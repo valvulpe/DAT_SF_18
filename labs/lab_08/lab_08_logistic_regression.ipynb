{
 "cells": [
  {
   "cell_type": "markdown",
   "metadata": {},
   "source": [
    "## DAT18 Lab 08\n",
    "## Logistic Regression Classification"
   ]
  },
  {
   "cell_type": "markdown",
   "metadata": {},
   "source": [
    "Import the usual packages"
   ]
  },
  {
   "cell_type": "code",
   "execution_count": null,
   "metadata": {
    "collapsed": false,
    "scrolled": true
   },
   "outputs": [],
   "source": [
    "import numpy as np\n",
    "import pandas as pd\n",
    "\n",
    "from bokeh.plotting import figure,show,output_notebook\n",
    "from bokeh.models import Range1d\n",
    "\n",
    "from sklearn import datasets\n",
    "from sklearn.cross_validation import cross_val_score\n",
    "from sklearn.linear_model import LogisticRegression\n",
    "from sklearn.neighbors import KNeighborsClassifier\n",
    "from sklearn.preprocessing import StandardScaler\n",
    "\n",
    "output_notebook()\n",
    "%matplotlib inline"
   ]
  },
  {
   "cell_type": "markdown",
   "metadata": {},
   "source": [
    "Here are a couple pandas settings to make viewing the data a little easier"
   ]
  },
  {
   "cell_type": "code",
   "execution_count": null,
   "metadata": {
    "collapsed": false
   },
   "outputs": [],
   "source": [
    "pd.set_option('display.max_rows',100)\n",
    "pd.set_option('display.max_columns',60)"
   ]
  },
  {
   "cell_type": "markdown",
   "metadata": {},
   "source": [
    "#### Load the Iris Data Set"
   ]
  },
  {
   "cell_type": "code",
   "execution_count": null,
   "metadata": {
    "collapsed": false
   },
   "outputs": [],
   "source": [
    "from sklearn import datasets\n",
    "\n",
    "sk_iris = datasets.load_iris()\n",
    "iris = pd.DataFrame(sk_iris.data,columns=sk_iris['feature_names'])\n",
    "iris['target'] = sk_iris.target\n",
    "Names = sk_iris.target_names"
   ]
  },
  {
   "cell_type": "markdown",
   "metadata": {},
   "source": [
    "#### Logistic Regression is a binary classifier so we'll just use two classes of the data set"
   ]
  },
  {
   "cell_type": "code",
   "execution_count": null,
   "metadata": {
    "collapsed": false
   },
   "outputs": [],
   "source": [
    "iris = iris[iris.target!=0]"
   ]
  },
  {
   "cell_type": "code",
   "execution_count": null,
   "metadata": {
    "collapsed": false,
    "scrolled": true
   },
   "outputs": [],
   "source": [
    "iris.head()"
   ]
  },
  {
   "cell_type": "markdown",
   "metadata": {},
   "source": [
    "#### Use the cross_validation function from previous lab\n",
    "\n",
    "I've also included worked examples of cross_eval_score. Remember: cv_score_dataframe needs your data to come from a single dataframe."
   ]
  },
  {
   "cell_type": "code",
   "execution_count": null,
   "metadata": {
    "collapsed": false
   },
   "outputs": [],
   "source": [
    "def cv_score_dataframe(data,label,k,model):\n",
    "    positions = data.index.values\n",
    "    np.random.shuffle(positions)\n",
    "    cv_score=0\n",
    "    \n",
    "    for i in range(k):\n",
    "        pos_var = len(data)/k\n",
    "        \n",
    "        test_slice = positions[i*pos_var:(i+1)*pos_var]\n",
    "\n",
    "        train_1 = positions[ :i*pos_var]\n",
    "        train_2 = positions[(i+1)*pos_var:]\n",
    "        train_slice = np.concatenate([train_1,train_2])\n",
    "\n",
    "        model.fit(data.loc[train_slice],label.loc[train_slice])\n",
    "        k_score = model.score(data.loc[test_slice],label.loc[test_slice])\n",
    "        cv_score += k_score\n",
    "        print k_score\n",
    "        \n",
    "    return  cv_score/k"
   ]
  },
  {
   "cell_type": "code",
   "execution_count": null,
   "metadata": {
    "collapsed": true
   },
   "outputs": [],
   "source": [
    "from sklearn.cross_validation import cross_val_score"
   ]
  },
  {
   "cell_type": "markdown",
   "metadata": {},
   "source": [
    "### Create an instance of a Logistic Regression model and apply cross-validation\n",
    "#### (Note: C parameter is for regularization, also known as our complexity penalty)"
   ]
  },
  {
   "cell_type": "code",
   "execution_count": null,
   "metadata": {
    "collapsed": false
   },
   "outputs": [],
   "source": [
    "from sklearn.linear_model import LogisticRegression\n",
    "\n",
    "model_lr = LogisticRegression(C=1)"
   ]
  },
  {
   "cell_type": "code",
   "execution_count": null,
   "metadata": {
    "collapsed": false
   },
   "outputs": [],
   "source": [
    "features = iris.drop('target',axis=1)\n",
    "target = iris.target"
   ]
  },
  {
   "cell_type": "code",
   "execution_count": null,
   "metadata": {
    "collapsed": false,
    "scrolled": true
   },
   "outputs": [],
   "source": [
    "cv_score_dataframe(features, target,3, model_lr)"
   ]
  },
  {
   "cell_type": "code",
   "execution_count": null,
   "metadata": {
    "collapsed": false
   },
   "outputs": [],
   "source": [
    "cross_val_score(model_lr,features,target,cv=3).mean()"
   ]
  },
  {
   "cell_type": "markdown",
   "metadata": {},
   "source": [
    "### Review the feature importance\n"
   ]
  },
  {
   "cell_type": "code",
   "execution_count": null,
   "metadata": {
    "collapsed": false
   },
   "outputs": [],
   "source": [
    "model_lr = LogisticRegression(C=1).fit(features, target)\n",
    "\n",
    "x = np.arange(len(features.columns))\n",
    "names = features.columns\n",
    "names"
   ]
  },
  {
   "cell_type": "markdown",
   "metadata": {},
   "source": [
    "OR = e^Beta and the betas are the model coefficients."
   ]
  },
  {
   "cell_type": "code",
   "execution_count": null,
   "metadata": {
    "collapsed": false
   },
   "outputs": [],
   "source": [
    "print model_lr.coef_\n",
    "print model_lr.coef_.ravel()"
   ]
  },
  {
   "cell_type": "code",
   "execution_count": null,
   "metadata": {
    "collapsed": false
   },
   "outputs": [],
   "source": [
    "p = figure(title=\"Model Coefficients\")\n",
    "for val in x:\n",
    "    p.quad(top=model_lr.coef_.ravel()[val], \n",
    "           bottom=0, left=val+0.2,right=val+0.8, \n",
    "           color=['red','orange','green','purple'][val],\n",
    "           legend=names[val]\n",
    "          )\n",
    "    \n",
    "p.y_range = Range1d(min(model_lr.coef_.ravel())-0.1, max(model_lr.coef_.ravel())+1.5)\n",
    "show(p)\n"
   ]
  },
  {
   "cell_type": "markdown",
   "metadata": {},
   "source": [
    "#### Exercise 1: Try Changing the Normalization and see how the Coeficients Change and Discuss with your Neighbor"
   ]
  },
  {
   "cell_type": "code",
   "execution_count": null,
   "metadata": {
    "collapsed": false
   },
   "outputs": [],
   "source": []
  },
  {
   "cell_type": "markdown",
   "metadata": {},
   "source": [
    "## Example 2: Build Logistic Regression Classifier for Spambase Data"
   ]
  },
  {
   "cell_type": "markdown",
   "metadata": {},
   "source": [
    "#### Load the spambase.csv as a pandas DataFrame (last column of data contains Target Data - is_spam)"
   ]
  },
  {
   "cell_type": "code",
   "execution_count": null,
   "metadata": {
    "collapsed": false
   },
   "outputs": [],
   "source": [
    "spam_data = pd.read_csv(\"../data/spambase.csv\")\n",
    "# spam_data.head()\n",
    "spam_data.describe()\n",
    "# spam_data.info()"
   ]
  },
  {
   "cell_type": "markdown",
   "metadata": {},
   "source": [
    "Separate features with iloc indexing"
   ]
  },
  {
   "cell_type": "code",
   "execution_count": null,
   "metadata": {
    "collapsed": false
   },
   "outputs": [],
   "source": [
    "features = spam_data.drop('is_spam',axis=1)\n",
    "target = spam_data.is_spam\n",
    "\n",
    "# features.head()\n",
    "target.head()"
   ]
  },
  {
   "cell_type": "markdown",
   "metadata": {},
   "source": [
    "Convert DataFrames into numpy arrays"
   ]
  },
  {
   "cell_type": "code",
   "execution_count": null,
   "metadata": {
    "collapsed": false
   },
   "outputs": [],
   "source": [
    "features.values"
   ]
  },
  {
   "cell_type": "markdown",
   "metadata": {},
   "source": [
    "#### Use crossvalidation to score model"
   ]
  },
  {
   "cell_type": "code",
   "execution_count": null,
   "metadata": {
    "collapsed": false
   },
   "outputs": [],
   "source": [
    "from sklearn.linear_model import LogisticRegression\n",
    "\n",
    "features = spam_data.drop('is_spam',axis=1)\n",
    "target = spam_data.is_spam\n",
    "\n",
    "model_lr = LogisticRegression(C=1)\n",
    "\n",
    "cv_score_dataframe(features, target,3, model_lr)\n"
   ]
  },
  {
   "cell_type": "code",
   "execution_count": null,
   "metadata": {
    "collapsed": false
   },
   "outputs": [],
   "source": [
    "cross_val_score(model_lr,features,target,cv=3).mean()"
   ]
  },
  {
   "cell_type": "markdown",
   "metadata": {},
   "source": [
    "### Compare Performance of Logistic Regression to KNN"
   ]
  },
  {
   "cell_type": "code",
   "execution_count": null,
   "metadata": {
    "collapsed": false
   },
   "outputs": [],
   "source": [
    "from sklearn.neighbors import KNeighborsClassifier\n",
    "\n",
    "model_knn = KNeighborsClassifier(3)\n",
    "cv_score_dataframe(features, target,3, model_knn)\n"
   ]
  },
  {
   "cell_type": "markdown",
   "metadata": {},
   "source": [
    "#### Exercise 2: Try testing and plotting CV Scores with different C values"
   ]
  },
  {
   "cell_type": "code",
   "execution_count": null,
   "metadata": {
    "collapsed": false
   },
   "outputs": [],
   "source": [
    "from sklearn.linear_model import LogisticRegression\n",
    "\n",
    "c_list = [1000, 100, 10, 1, 0.1, 0.01, 0.001, .0001]\n",
    "cv_scores = []\n"
   ]
  },
  {
   "cell_type": "markdown",
   "metadata": {},
   "source": [
    "###  Evaluate Feature Importance"
   ]
  },
  {
   "cell_type": "code",
   "execution_count": null,
   "metadata": {
    "collapsed": false,
    "scrolled": false
   },
   "outputs": [],
   "source": [
    "feature_names = spam_data.columns[:-1]\n",
    "feature_names = feature_names[-10:]\n",
    "model_lr = LogisticRegression(C=1).fit(features, target)\n",
    "\n",
    "\n",
    "\n",
    "p = figure(title=\"Model Coefficients\")\n",
    "\n",
    "coefficients=model_lr.coef_.ravel()[-10:]\n",
    "\n",
    "x = np.arange(len(feature_names))\n",
    "for val in x:\n",
    "    p.quad(top = coefficients[val], bottom=0, left=val+0.2,\n",
    "           right=val+0.8, color=['red','orange','green','purple','blue','cyan','magenta','red','orange','purple','blue'][val],legend=feature_names[val])\n",
    "p.y_range = Range1d(min(coefficients)-0.1, max(coefficients)+1.5)\n",
    "show(p)\n"
   ]
  },
  {
   "cell_type": "markdown",
   "metadata": {},
   "source": [
    "### What if I want the most important features?"
   ]
  },
  {
   "cell_type": "code",
   "execution_count": null,
   "metadata": {
    "collapsed": false,
    "scrolled": true
   },
   "outputs": [],
   "source": [
    "coeffs = pd.DataFrame(zip(spam_data.columns[:-1],model_lr.coef_.ravel()),columns=['features','coeff'])\n",
    "coeffs.head()"
   ]
  },
  {
   "cell_type": "code",
   "execution_count": null,
   "metadata": {
    "collapsed": false,
    "scrolled": true
   },
   "outputs": [],
   "source": [
    "coeffs['abs'] = np.absolute(coeffs.coeff.values)\n",
    "\n",
    "coeffs.sort('abs',ascending=False)"
   ]
  },
  {
   "cell_type": "markdown",
   "metadata": {},
   "source": [
    "### Data Normalization"
   ]
  },
  {
   "cell_type": "code",
   "execution_count": null,
   "metadata": {
    "collapsed": false
   },
   "outputs": [],
   "source": [
    "features.describe()"
   ]
  },
  {
   "cell_type": "markdown",
   "metadata": {},
   "source": [
    "#### Normalize all features in one line of code\n",
    "This is the form of normalization where you normalize the standard deviation."
   ]
  },
  {
   "cell_type": "code",
   "execution_count": null,
   "metadata": {
    "collapsed": false
   },
   "outputs": [],
   "source": [
    "features_norm = (features - features.mean())/features.std()"
   ]
  },
  {
   "cell_type": "code",
   "execution_count": null,
   "metadata": {
    "collapsed": false,
    "scrolled": false
   },
   "outputs": [],
   "source": [
    "features_norm.describe()"
   ]
  },
  {
   "cell_type": "markdown",
   "metadata": {},
   "source": [
    "We can also use the built in SKLearn Normalization"
   ]
  },
  {
   "cell_type": "code",
   "execution_count": null,
   "metadata": {
    "collapsed": false
   },
   "outputs": [],
   "source": []
  },
  {
   "cell_type": "code",
   "execution_count": null,
   "metadata": {
    "collapsed": false
   },
   "outputs": [],
   "source": [
    "scaler = StandardScaler()\n",
    "features_norm_2 = scaler.fit_transform(features)\n",
    "\n",
    "pd.DataFrame(features_norm_2, columns=features.columns).head()"
   ]
  },
  {
   "cell_type": "code",
   "execution_count": null,
   "metadata": {
    "collapsed": false
   },
   "outputs": [],
   "source": [
    "from sklearn.linear_model import LogisticRegression\n",
    "model_lr = LogisticRegression(C=1)\n",
    "\n",
    "cv_score_dataframe(features_norm, target,3, model_lr)"
   ]
  },
  {
   "cell_type": "markdown",
   "metadata": {},
   "source": [
    "#### Chart last 10 features and compare with earlier coefficients"
   ]
  },
  {
   "cell_type": "code",
   "execution_count": null,
   "metadata": {
    "collapsed": false
   },
   "outputs": [],
   "source": [
    "feature_names = spam_data.columns[:-1]\n",
    "\n",
    "feature_names = feature_names[-11:]\n",
    "feat_norm_val = features_norm.values\n",
    "model_lr = LogisticRegression(C=1).fit(feat_norm_val, target)\n",
    "\n",
    "p = figure(title=\"Model Coefficients\")\n",
    "\n",
    "coefficients=model_lr.coef_.ravel()[-11:]\n",
    "\n",
    "x = np.arange(len(feature_names))\n",
    "for val in x:\n",
    "    p.quad(top = coefficients[val], bottom=0, left=val+0.2,\n",
    "           right=val+0.8, \n",
    "           color=['red','orange','green','purple','blue','cyan','magenta','red','orange','purple','blue','green'][val],\n",
    "           legend=feature_names[val])\n",
    "p.y_range = Range1d(min(coefficients)-0.1, max(coefficients)+2.5)\n",
    "show(p)\n"
   ]
  },
  {
   "cell_type": "markdown",
   "metadata": {
    "collapsed": true
   },
   "source": [
    "### Exercise 3:\n",
    "- Review the Solution to the Homework\n",
    "- Discuss with your Neighbor: How you could improve your data cleaning\n",
    "- Then Apply Logistic Regressions to the Homework Problem\n"
   ]
  }
 ],
 "metadata": {
  "kernelspec": {
   "display_name": "Python 2",
   "language": "python",
   "name": "python2"
  },
  "language_info": {
   "codemirror_mode": {
    "name": "ipython",
    "version": 2
   },
   "file_extension": ".py",
   "mimetype": "text/x-python",
   "name": "python",
   "nbconvert_exporter": "python",
   "pygments_lexer": "ipython2",
   "version": "2.7.10"
  }
 },
 "nbformat": 4,
 "nbformat_minor": 0
}
