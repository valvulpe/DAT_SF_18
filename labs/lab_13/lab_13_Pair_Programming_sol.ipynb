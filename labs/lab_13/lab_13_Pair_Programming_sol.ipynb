{
 "cells": [
  {
   "cell_type": "markdown",
   "metadata": {},
   "source": [
    "# GA Data Science (DAT18) - Lab 13 - Solutions\n",
    "## Pair Programming"
   ]
  },
  {
   "cell_type": "markdown",
   "metadata": {},
   "source": [
    "### Heart Disease Dataset\n",
    "ref: [https://archive.ics.uci.edu/ml/datasets/Heart+Disease](https://archive.ics.uci.edu/ml/datasets/Heart+Disease)"
   ]
  },
  {
   "cell_type": "markdown",
   "metadata": {},
   "source": [
    "#### Features\n",
    "\n",
    "    Dataset has 76 total attributes - 14 attributes are used:\n",
    "    1. #3 (age)\n",
    "    2. #4 (sex)\n",
    "    3. #9 (cp)\n",
    "    4. #10 (trestbps)\n",
    "    5. #12 (chol)\n",
    "    6. #16 (fbs)\n",
    "    7. #19 (restecg)\n",
    "    8. #32 (thalach)\n",
    "    9. #38 (exang)\n",
    "    10. #40 (oldpeak)\n",
    "    11. #41 (slope)\n",
    "    12. #44 (ca)\n",
    "    13. #51 (thal)\n",
    "    14. #58 (num) (the predicted attribute - 0 is healthy and 1,2,3,4 indicate heart disease) "
   ]
  },
  {
   "cell_type": "markdown",
   "metadata": {},
   "source": [
    "### Class Exercise: Implement Random Forest"
   ]
  },
  {
   "cell_type": "markdown",
   "metadata": {},
   "source": [
    "#### Import the dataset into a pandas dataframe:\n",
    "\n",
    "Note: You'll have to manually add column labels"
   ]
  },
  {
   "cell_type": "code",
   "execution_count": null,
   "metadata": {
    "collapsed": false
   },
   "outputs": [],
   "source": [
    "import numpy as np\n",
    "import pandas as pd\n",
    "\n",
    "from bokeh.plotting import figure,show,output_notebook\n",
    "output_notebook()"
   ]
  },
  {
   "cell_type": "code",
   "execution_count": null,
   "metadata": {
    "collapsed": false,
    "scrolled": true
   },
   "outputs": [],
   "source": [
    "\n",
    "df = pd.read_csv(\"../data/heart_disease.csv\",header=None)\n",
    "df.columns = ['age','sex','cp','trestbps','chol','fbs','restecg','thalach','exang','oldpeak','slope','ca','thal','num']\n",
    "df.head()"
   ]
  },
  {
   "cell_type": "markdown",
   "metadata": {},
   "source": [
    "#### Prepare and validate the data:"
   ]
  },
  {
   "cell_type": "markdown",
   "metadata": {},
   "source": [
    "Investigate the data and check for missing values - we've used .info() before:"
   ]
  },
  {
   "cell_type": "code",
   "execution_count": null,
   "metadata": {
    "collapsed": false
   },
   "outputs": [],
   "source": [
    "df.info()\n",
    "print df['ca'].value_counts()\n",
    "print df['thal'].value_counts()"
   ]
  },
  {
   "cell_type": "markdown",
   "metadata": {},
   "source": [
    "#### Clean the data to ensure it can be used in a random forest algorithm"
   ]
  },
  {
   "cell_type": "code",
   "execution_count": null,
   "metadata": {
    "collapsed": false
   },
   "outputs": [],
   "source": [
    "df = df.convert_objects(convert_numeric=True)\n",
    "df.dropna(inplace=True)\n",
    "df.info()"
   ]
  },
  {
   "cell_type": "markdown",
   "metadata": {},
   "source": [
    "#### Select Features and convert Target to Boolean Class for Heart Disease (i.e., values 1, 2, 3 and 4 all indicate heart disease)"
   ]
  },
  {
   "cell_type": "code",
   "execution_count": null,
   "metadata": {
    "collapsed": false
   },
   "outputs": [],
   "source": [
    "df['num'] = df['num'].replace(to_replace=[2.0, 3.0, 4.0], value=1.0)\n",
    "\n",
    "features = df.ix[:, 0:13].values\n",
    "target = df.num.values"
   ]
  },
  {
   "cell_type": "code",
   "execution_count": null,
   "metadata": {
    "collapsed": false
   },
   "outputs": [],
   "source": [
    "feature_names = df.columns[0:13]\n",
    "feature_names"
   ]
  },
  {
   "cell_type": "markdown",
   "metadata": {},
   "source": [
    "#### Build the model and score with cross-validation"
   ]
  },
  {
   "cell_type": "code",
   "execution_count": null,
   "metadata": {
    "collapsed": false
   },
   "outputs": [],
   "source": [
    "from sklearn.ensemble import RandomForestClassifier\n",
    "\n",
    "from sklearn.cross_validation import KFold\n",
    "\n",
    "def cross_validate(X, y, classifier, k_fold) :\n",
    "\n",
    "    # derive a set of (random) training and testing indices\n",
    "    k_fold_indices = KFold(len(X), n_folds=k_fold,\n",
    "                           shuffle=True, random_state=0)\n",
    "\n",
    "    k_score_total = 0\n",
    "    # for each training and testing slices run the classifier, and score the results\n",
    "    for train_slice, test_slice in k_fold_indices :\n",
    "\n",
    "        model = classifier(X[ train_slice  ],\n",
    "                         y[ train_slice  ])\n",
    "\n",
    "        k_score = model.score(X[ test_slice ],\n",
    "                              y[ test_slice ])\n",
    "\n",
    "        k_score_total += k_score\n",
    "\n",
    "    # return the average accuracy\n",
    "    return k_score_total/k_fold\n",
    "\n",
    "model = RandomForestClassifier(random_state=0).fit\n",
    "cross_validate(features, target, model, 10)"
   ]
  },
  {
   "cell_type": "markdown",
   "metadata": {},
   "source": [
    "#### How important are the various features?"
   ]
  },
  {
   "cell_type": "code",
   "execution_count": null,
   "metadata": {
    "collapsed": false,
    "scrolled": true
   },
   "outputs": [],
   "source": [
    "model = RandomForestClassifier(random_state=0).fit(features,target)\n",
    "model.feature_importances_"
   ]
  },
  {
   "cell_type": "markdown",
   "metadata": {},
   "source": [
    "#### Plot Feature importances"
   ]
  },
  {
   "cell_type": "code",
   "execution_count": null,
   "metadata": {
    "collapsed": false
   },
   "outputs": [],
   "source": [
    "from bokeh.charts import Bar, show\n",
    "\n",
    "p=Bar(model.feature_importances_, cat=list(feature_names),\n",
    "      title=\"Random Forest Feature Importance\",\n",
    "      xlabel='Heart Disease Features', ylabel='Feature Importance', \n",
    "      width=600, height=600, legend=None)\n",
    "show(p)"
   ]
  },
  {
   "cell_type": "markdown",
   "metadata": {},
   "source": [
    "#### Bonus: Repeat the classification with Support Vector Machine"
   ]
  },
  {
   "cell_type": "code",
   "execution_count": null,
   "metadata": {
    "collapsed": false,
    "scrolled": true
   },
   "outputs": [],
   "source": [
    "from sklearn.svm import SVC\n",
    "model = SVC(kernel='linear').fit\n",
    "cross_validate(features, target, model, 10)"
   ]
  },
  {
   "cell_type": "code",
   "execution_count": null,
   "metadata": {
    "collapsed": false
   },
   "outputs": [],
   "source": [
    "model = SVC(kernel='linear').fit(features,target)\n",
    "\n",
    "p=Bar(model.coef_, cat=list(feature_names),\n",
    "      title=\"Linear SVC Feature Importance\",\n",
    "      xlabel='Heart Disease Features', ylabel='Feature Importance', \n",
    "      width=600, height=600, legend=None)\n",
    "show(p)"
   ]
  },
  {
   "cell_type": "code",
   "execution_count": null,
   "metadata": {
    "collapsed": false
   },
   "outputs": [],
   "source": [
    "model = SVC(kernel='rbf').fit\n",
    "cross_validate(features, target, model, 10)"
   ]
  },
  {
   "cell_type": "markdown",
   "metadata": {},
   "source": [
    "Note: coefs aren't available through kerneled SVCs."
   ]
  },
  {
   "cell_type": "code",
   "execution_count": null,
   "metadata": {
    "collapsed": true
   },
   "outputs": [],
   "source": []
  }
 ],
 "metadata": {
  "kernelspec": {
   "display_name": "Python 2",
   "language": "python",
   "name": "python2"
  },
  "language_info": {
   "codemirror_mode": {
    "name": "ipython",
    "version": 2
   },
   "file_extension": ".py",
   "mimetype": "text/x-python",
   "name": "python",
   "nbconvert_exporter": "python",
   "pygments_lexer": "ipython2",
   "version": "2.7.10"
  }
 },
 "nbformat": 4,
 "nbformat_minor": 0
}
