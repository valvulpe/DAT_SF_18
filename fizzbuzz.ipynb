{
 "cells": [
  {
   "cell_type": "markdown",
   "metadata": {
    "collapsed": true
   },
   "source": [
    "write a function that accepts a string, \n",
    "puts all the words in that string into a dictionary\n",
    "and counts how many times each word was in the sentence. `"
   ]
  },
  {
   "cell_type": "code",
   "execution_count": 26,
   "metadata": {
    "collapsed": true
   },
   "outputs": [],
   "source": [
    "mystring = \"zack is the coolest dude ever.  val is not as cool as zack  zack can swim for 1000 feet  val does not know how to swim\"\n",
    "def word_counter(mystring):\n",
    "    mydict = {'key': 'value', 'key2': 22}\n",
    "    return mydict"
   ]
  },
  {
   "cell_type": "code",
   "execution_count": 44,
   "metadata": {
    "collapsed": false
   },
   "outputs": [
    {
     "name": "stdout",
     "output_type": "stream",
     "text": [
      "{'swim': 2, 'ever.': 1, 'zack': 3, 'val': 2, 'how': 1, 'is': 2, 'dude': 1, 'cool': 1, 'for': 1, 'feet': 1, 'to': 1, 'as': 2, 'does': 1, 'know': 1, 'not': 2, 'the': 1, '1000': 1, 'coolest': 1, 'can': 1}\n"
     ]
    }
   ],
   "source": [
    "s=mystring.split()\n",
    "\n",
    "s_set=set(s)\n",
    "s.count(\"zack\")\n",
    "mydict={}\n",
    "for i in s_set:\n",
    "    mydict[i]=s.count(i)\n",
    "    \n",
    "print mydict\n",
    "   \n"
   ]
  },
  {
   "cell_type": "code",
   "execution_count": 37,
   "metadata": {
    "collapsed": false
   },
   "outputs": [
    {
     "data": {
      "text/plain": [
       "26"
      ]
     },
     "execution_count": 37,
     "metadata": {},
     "output_type": "execute_result"
    }
   ],
   "source": [
    "len(s)"
   ]
  },
  {
   "cell_type": "code",
   "execution_count": 41,
   "metadata": {
    "collapsed": false
   },
   "outputs": [
    {
     "name": "stdout",
     "output_type": "stream",
     "text": [
      "zack\n",
      "is\n",
      "the\n",
      "coolest\n",
      "dude\n",
      "ever.\n",
      "val\n",
      "is\n",
      "not\n",
      "as\n",
      "cool\n",
      "as\n",
      "zack\n",
      "zack\n",
      "can\n",
      "swim\n",
      "for\n",
      "1000\n",
      "feet\n",
      "val\n",
      "does\n",
      "not\n",
      "know\n",
      "how\n",
      "to\n",
      "swim\n"
     ]
    }
   ],
   "source": [
    "for word in s:\n",
    "    print word"
   ]
  },
  {
   "cell_type": "code",
   "execution_count": null,
   "metadata": {
    "collapsed": true
   },
   "outputs": [],
   "source": []
  }
 ],
 "metadata": {
  "kernelspec": {
   "display_name": "Python 2",
   "language": "python",
   "name": "python2"
  },
  "language_info": {
   "codemirror_mode": {
    "name": "ipython",
    "version": 2
   },
   "file_extension": ".py",
   "mimetype": "text/x-python",
   "name": "python",
   "nbconvert_exporter": "python",
   "pygments_lexer": "ipython2",
   "version": "2.7.10"
  }
 },
 "nbformat": 4,
 "nbformat_minor": 0
}
